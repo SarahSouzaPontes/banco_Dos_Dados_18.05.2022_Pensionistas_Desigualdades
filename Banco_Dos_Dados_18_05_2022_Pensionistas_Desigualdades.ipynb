{
  "nbformat": 4,
  "nbformat_minor": 0,
  "metadata": {
    "colab": {
      "name": "Banco_Dos_Dados_18.05.2022_Pensionistas_Desigualdades",
      "provenance": [],
      "collapsed_sections": [],
      "include_colab_link": true
    },
    "kernelspec": {
      "name": "python3",
      "display_name": "Python 3"
    },
    "language_info": {
      "name": "python"
    },
    "widgets": {
      "application/vnd.jupyter.widget-state+json": {
        "c8b81ebaee8f42b3ae8aaf95a149cb23": {
          "model_module": "@jupyter-widgets/controls",
          "model_name": "HBoxModel",
          "model_module_version": "1.5.0",
          "state": {
            "_dom_classes": [],
            "_model_module": "@jupyter-widgets/controls",
            "_model_module_version": "1.5.0",
            "_model_name": "HBoxModel",
            "_view_count": null,
            "_view_module": "@jupyter-widgets/controls",
            "_view_module_version": "1.5.0",
            "_view_name": "HBoxView",
            "box_style": "",
            "children": [
              "IPY_MODEL_18614535c41b4501b95daedd3f27d290",
              "IPY_MODEL_cdc4f5b9a6044b73a8754c97f449cc24",
              "IPY_MODEL_3d0a50e72ba34703bb19e15bbf16d58e"
            ],
            "layout": "IPY_MODEL_da7562f3754e4fc28d623c7eb1d55d73"
          }
        },
        "18614535c41b4501b95daedd3f27d290": {
          "model_module": "@jupyter-widgets/controls",
          "model_name": "HTMLModel",
          "model_module_version": "1.5.0",
          "state": {
            "_dom_classes": [],
            "_model_module": "@jupyter-widgets/controls",
            "_model_module_version": "1.5.0",
            "_model_name": "HTMLModel",
            "_view_count": null,
            "_view_module": "@jupyter-widgets/controls",
            "_view_module_version": "1.5.0",
            "_view_name": "HTMLView",
            "description": "",
            "description_tooltip": null,
            "layout": "IPY_MODEL_d842352cc331426f97f411e8b8373ba8",
            "placeholder": "​",
            "style": "IPY_MODEL_1f3384197d744c639906bd79a4d78725",
            "value": "Summarize dataset: 100%"
          }
        },
        "cdc4f5b9a6044b73a8754c97f449cc24": {
          "model_module": "@jupyter-widgets/controls",
          "model_name": "FloatProgressModel",
          "model_module_version": "1.5.0",
          "state": {
            "_dom_classes": [],
            "_model_module": "@jupyter-widgets/controls",
            "_model_module_version": "1.5.0",
            "_model_name": "FloatProgressModel",
            "_view_count": null,
            "_view_module": "@jupyter-widgets/controls",
            "_view_module_version": "1.5.0",
            "_view_name": "ProgressView",
            "bar_style": "success",
            "description": "",
            "description_tooltip": null,
            "layout": "IPY_MODEL_97719a1203414a7389769a16049da709",
            "max": 5,
            "min": 0,
            "orientation": "horizontal",
            "style": "IPY_MODEL_8c319bc8b6e64da79ecbbe8a7d4c8469",
            "value": 5
          }
        },
        "3d0a50e72ba34703bb19e15bbf16d58e": {
          "model_module": "@jupyter-widgets/controls",
          "model_name": "HTMLModel",
          "model_module_version": "1.5.0",
          "state": {
            "_dom_classes": [],
            "_model_module": "@jupyter-widgets/controls",
            "_model_module_version": "1.5.0",
            "_model_name": "HTMLModel",
            "_view_count": null,
            "_view_module": "@jupyter-widgets/controls",
            "_view_module_version": "1.5.0",
            "_view_name": "HTMLView",
            "description": "",
            "description_tooltip": null,
            "layout": "IPY_MODEL_8bbd7d70c6514b8a961702de26075d5f",
            "placeholder": "​",
            "style": "IPY_MODEL_3712e0d797f74634af687a06c8029089",
            "value": " 45/45 [00:44&lt;00:00,  1.45s/it, Completed]"
          }
        },
        "da7562f3754e4fc28d623c7eb1d55d73": {
          "model_module": "@jupyter-widgets/base",
          "model_name": "LayoutModel",
          "model_module_version": "1.2.0",
          "state": {
            "_model_module": "@jupyter-widgets/base",
            "_model_module_version": "1.2.0",
            "_model_name": "LayoutModel",
            "_view_count": null,
            "_view_module": "@jupyter-widgets/base",
            "_view_module_version": "1.2.0",
            "_view_name": "LayoutView",
            "align_content": null,
            "align_items": null,
            "align_self": null,
            "border": null,
            "bottom": null,
            "display": null,
            "flex": null,
            "flex_flow": null,
            "grid_area": null,
            "grid_auto_columns": null,
            "grid_auto_flow": null,
            "grid_auto_rows": null,
            "grid_column": null,
            "grid_gap": null,
            "grid_row": null,
            "grid_template_areas": null,
            "grid_template_columns": null,
            "grid_template_rows": null,
            "height": null,
            "justify_content": null,
            "justify_items": null,
            "left": null,
            "margin": null,
            "max_height": null,
            "max_width": null,
            "min_height": null,
            "min_width": null,
            "object_fit": null,
            "object_position": null,
            "order": null,
            "overflow": null,
            "overflow_x": null,
            "overflow_y": null,
            "padding": null,
            "right": null,
            "top": null,
            "visibility": null,
            "width": null
          }
        },
        "d842352cc331426f97f411e8b8373ba8": {
          "model_module": "@jupyter-widgets/base",
          "model_name": "LayoutModel",
          "model_module_version": "1.2.0",
          "state": {
            "_model_module": "@jupyter-widgets/base",
            "_model_module_version": "1.2.0",
            "_model_name": "LayoutModel",
            "_view_count": null,
            "_view_module": "@jupyter-widgets/base",
            "_view_module_version": "1.2.0",
            "_view_name": "LayoutView",
            "align_content": null,
            "align_items": null,
            "align_self": null,
            "border": null,
            "bottom": null,
            "display": null,
            "flex": null,
            "flex_flow": null,
            "grid_area": null,
            "grid_auto_columns": null,
            "grid_auto_flow": null,
            "grid_auto_rows": null,
            "grid_column": null,
            "grid_gap": null,
            "grid_row": null,
            "grid_template_areas": null,
            "grid_template_columns": null,
            "grid_template_rows": null,
            "height": null,
            "justify_content": null,
            "justify_items": null,
            "left": null,
            "margin": null,
            "max_height": null,
            "max_width": null,
            "min_height": null,
            "min_width": null,
            "object_fit": null,
            "object_position": null,
            "order": null,
            "overflow": null,
            "overflow_x": null,
            "overflow_y": null,
            "padding": null,
            "right": null,
            "top": null,
            "visibility": null,
            "width": null
          }
        },
        "1f3384197d744c639906bd79a4d78725": {
          "model_module": "@jupyter-widgets/controls",
          "model_name": "DescriptionStyleModel",
          "model_module_version": "1.5.0",
          "state": {
            "_model_module": "@jupyter-widgets/controls",
            "_model_module_version": "1.5.0",
            "_model_name": "DescriptionStyleModel",
            "_view_count": null,
            "_view_module": "@jupyter-widgets/base",
            "_view_module_version": "1.2.0",
            "_view_name": "StyleView",
            "description_width": ""
          }
        },
        "97719a1203414a7389769a16049da709": {
          "model_module": "@jupyter-widgets/base",
          "model_name": "LayoutModel",
          "model_module_version": "1.2.0",
          "state": {
            "_model_module": "@jupyter-widgets/base",
            "_model_module_version": "1.2.0",
            "_model_name": "LayoutModel",
            "_view_count": null,
            "_view_module": "@jupyter-widgets/base",
            "_view_module_version": "1.2.0",
            "_view_name": "LayoutView",
            "align_content": null,
            "align_items": null,
            "align_self": null,
            "border": null,
            "bottom": null,
            "display": null,
            "flex": null,
            "flex_flow": null,
            "grid_area": null,
            "grid_auto_columns": null,
            "grid_auto_flow": null,
            "grid_auto_rows": null,
            "grid_column": null,
            "grid_gap": null,
            "grid_row": null,
            "grid_template_areas": null,
            "grid_template_columns": null,
            "grid_template_rows": null,
            "height": null,
            "justify_content": null,
            "justify_items": null,
            "left": null,
            "margin": null,
            "max_height": null,
            "max_width": null,
            "min_height": null,
            "min_width": null,
            "object_fit": null,
            "object_position": null,
            "order": null,
            "overflow": null,
            "overflow_x": null,
            "overflow_y": null,
            "padding": null,
            "right": null,
            "top": null,
            "visibility": null,
            "width": null
          }
        },
        "8c319bc8b6e64da79ecbbe8a7d4c8469": {
          "model_module": "@jupyter-widgets/controls",
          "model_name": "ProgressStyleModel",
          "model_module_version": "1.5.0",
          "state": {
            "_model_module": "@jupyter-widgets/controls",
            "_model_module_version": "1.5.0",
            "_model_name": "ProgressStyleModel",
            "_view_count": null,
            "_view_module": "@jupyter-widgets/base",
            "_view_module_version": "1.2.0",
            "_view_name": "StyleView",
            "bar_color": null,
            "description_width": ""
          }
        },
        "8bbd7d70c6514b8a961702de26075d5f": {
          "model_module": "@jupyter-widgets/base",
          "model_name": "LayoutModel",
          "model_module_version": "1.2.0",
          "state": {
            "_model_module": "@jupyter-widgets/base",
            "_model_module_version": "1.2.0",
            "_model_name": "LayoutModel",
            "_view_count": null,
            "_view_module": "@jupyter-widgets/base",
            "_view_module_version": "1.2.0",
            "_view_name": "LayoutView",
            "align_content": null,
            "align_items": null,
            "align_self": null,
            "border": null,
            "bottom": null,
            "display": null,
            "flex": null,
            "flex_flow": null,
            "grid_area": null,
            "grid_auto_columns": null,
            "grid_auto_flow": null,
            "grid_auto_rows": null,
            "grid_column": null,
            "grid_gap": null,
            "grid_row": null,
            "grid_template_areas": null,
            "grid_template_columns": null,
            "grid_template_rows": null,
            "height": null,
            "justify_content": null,
            "justify_items": null,
            "left": null,
            "margin": null,
            "max_height": null,
            "max_width": null,
            "min_height": null,
            "min_width": null,
            "object_fit": null,
            "object_position": null,
            "order": null,
            "overflow": null,
            "overflow_x": null,
            "overflow_y": null,
            "padding": null,
            "right": null,
            "top": null,
            "visibility": null,
            "width": null
          }
        },
        "3712e0d797f74634af687a06c8029089": {
          "model_module": "@jupyter-widgets/controls",
          "model_name": "DescriptionStyleModel",
          "model_module_version": "1.5.0",
          "state": {
            "_model_module": "@jupyter-widgets/controls",
            "_model_module_version": "1.5.0",
            "_model_name": "DescriptionStyleModel",
            "_view_count": null,
            "_view_module": "@jupyter-widgets/base",
            "_view_module_version": "1.2.0",
            "_view_name": "StyleView",
            "description_width": ""
          }
        },
        "e3de73ec182a4be196956fdcb2198a9e": {
          "model_module": "@jupyter-widgets/controls",
          "model_name": "HBoxModel",
          "model_module_version": "1.5.0",
          "state": {
            "_dom_classes": [],
            "_model_module": "@jupyter-widgets/controls",
            "_model_module_version": "1.5.0",
            "_model_name": "HBoxModel",
            "_view_count": null,
            "_view_module": "@jupyter-widgets/controls",
            "_view_module_version": "1.5.0",
            "_view_name": "HBoxView",
            "box_style": "",
            "children": [
              "IPY_MODEL_6ef8ae2ce3194aad8c5c732467171cbf",
              "IPY_MODEL_fd7fbf87d20a43219eb62f4c9fb0d7e0",
              "IPY_MODEL_ef391952856d4ffaa68f1d2f736aba4e"
            ],
            "layout": "IPY_MODEL_62fb039f031d473085906c886ec796b3"
          }
        },
        "6ef8ae2ce3194aad8c5c732467171cbf": {
          "model_module": "@jupyter-widgets/controls",
          "model_name": "HTMLModel",
          "model_module_version": "1.5.0",
          "state": {
            "_dom_classes": [],
            "_model_module": "@jupyter-widgets/controls",
            "_model_module_version": "1.5.0",
            "_model_name": "HTMLModel",
            "_view_count": null,
            "_view_module": "@jupyter-widgets/controls",
            "_view_module_version": "1.5.0",
            "_view_name": "HTMLView",
            "description": "",
            "description_tooltip": null,
            "layout": "IPY_MODEL_f3564971cbb542c2a57eddb76129fdc9",
            "placeholder": "​",
            "style": "IPY_MODEL_e74da29c4047467e9b293bef5e2f8348",
            "value": "Generate report structure: 100%"
          }
        },
        "fd7fbf87d20a43219eb62f4c9fb0d7e0": {
          "model_module": "@jupyter-widgets/controls",
          "model_name": "FloatProgressModel",
          "model_module_version": "1.5.0",
          "state": {
            "_dom_classes": [],
            "_model_module": "@jupyter-widgets/controls",
            "_model_module_version": "1.5.0",
            "_model_name": "FloatProgressModel",
            "_view_count": null,
            "_view_module": "@jupyter-widgets/controls",
            "_view_module_version": "1.5.0",
            "_view_name": "ProgressView",
            "bar_style": "success",
            "description": "",
            "description_tooltip": null,
            "layout": "IPY_MODEL_bc5937eb171f45a6a8f25853b95e04fb",
            "max": 1,
            "min": 0,
            "orientation": "horizontal",
            "style": "IPY_MODEL_2633cd0ac5b74bb896d2556cfbb038fe",
            "value": 1
          }
        },
        "ef391952856d4ffaa68f1d2f736aba4e": {
          "model_module": "@jupyter-widgets/controls",
          "model_name": "HTMLModel",
          "model_module_version": "1.5.0",
          "state": {
            "_dom_classes": [],
            "_model_module": "@jupyter-widgets/controls",
            "_model_module_version": "1.5.0",
            "_model_name": "HTMLModel",
            "_view_count": null,
            "_view_module": "@jupyter-widgets/controls",
            "_view_module_version": "1.5.0",
            "_view_name": "HTMLView",
            "description": "",
            "description_tooltip": null,
            "layout": "IPY_MODEL_a41b663617894666b9516f429e984099",
            "placeholder": "​",
            "style": "IPY_MODEL_a5f9223736e9428f918f8cabe5c4872c",
            "value": " 1/1 [00:05&lt;00:00,  5.96s/it]"
          }
        },
        "62fb039f031d473085906c886ec796b3": {
          "model_module": "@jupyter-widgets/base",
          "model_name": "LayoutModel",
          "model_module_version": "1.2.0",
          "state": {
            "_model_module": "@jupyter-widgets/base",
            "_model_module_version": "1.2.0",
            "_model_name": "LayoutModel",
            "_view_count": null,
            "_view_module": "@jupyter-widgets/base",
            "_view_module_version": "1.2.0",
            "_view_name": "LayoutView",
            "align_content": null,
            "align_items": null,
            "align_self": null,
            "border": null,
            "bottom": null,
            "display": null,
            "flex": null,
            "flex_flow": null,
            "grid_area": null,
            "grid_auto_columns": null,
            "grid_auto_flow": null,
            "grid_auto_rows": null,
            "grid_column": null,
            "grid_gap": null,
            "grid_row": null,
            "grid_template_areas": null,
            "grid_template_columns": null,
            "grid_template_rows": null,
            "height": null,
            "justify_content": null,
            "justify_items": null,
            "left": null,
            "margin": null,
            "max_height": null,
            "max_width": null,
            "min_height": null,
            "min_width": null,
            "object_fit": null,
            "object_position": null,
            "order": null,
            "overflow": null,
            "overflow_x": null,
            "overflow_y": null,
            "padding": null,
            "right": null,
            "top": null,
            "visibility": null,
            "width": null
          }
        },
        "f3564971cbb542c2a57eddb76129fdc9": {
          "model_module": "@jupyter-widgets/base",
          "model_name": "LayoutModel",
          "model_module_version": "1.2.0",
          "state": {
            "_model_module": "@jupyter-widgets/base",
            "_model_module_version": "1.2.0",
            "_model_name": "LayoutModel",
            "_view_count": null,
            "_view_module": "@jupyter-widgets/base",
            "_view_module_version": "1.2.0",
            "_view_name": "LayoutView",
            "align_content": null,
            "align_items": null,
            "align_self": null,
            "border": null,
            "bottom": null,
            "display": null,
            "flex": null,
            "flex_flow": null,
            "grid_area": null,
            "grid_auto_columns": null,
            "grid_auto_flow": null,
            "grid_auto_rows": null,
            "grid_column": null,
            "grid_gap": null,
            "grid_row": null,
            "grid_template_areas": null,
            "grid_template_columns": null,
            "grid_template_rows": null,
            "height": null,
            "justify_content": null,
            "justify_items": null,
            "left": null,
            "margin": null,
            "max_height": null,
            "max_width": null,
            "min_height": null,
            "min_width": null,
            "object_fit": null,
            "object_position": null,
            "order": null,
            "overflow": null,
            "overflow_x": null,
            "overflow_y": null,
            "padding": null,
            "right": null,
            "top": null,
            "visibility": null,
            "width": null
          }
        },
        "e74da29c4047467e9b293bef5e2f8348": {
          "model_module": "@jupyter-widgets/controls",
          "model_name": "DescriptionStyleModel",
          "model_module_version": "1.5.0",
          "state": {
            "_model_module": "@jupyter-widgets/controls",
            "_model_module_version": "1.5.0",
            "_model_name": "DescriptionStyleModel",
            "_view_count": null,
            "_view_module": "@jupyter-widgets/base",
            "_view_module_version": "1.2.0",
            "_view_name": "StyleView",
            "description_width": ""
          }
        },
        "bc5937eb171f45a6a8f25853b95e04fb": {
          "model_module": "@jupyter-widgets/base",
          "model_name": "LayoutModel",
          "model_module_version": "1.2.0",
          "state": {
            "_model_module": "@jupyter-widgets/base",
            "_model_module_version": "1.2.0",
            "_model_name": "LayoutModel",
            "_view_count": null,
            "_view_module": "@jupyter-widgets/base",
            "_view_module_version": "1.2.0",
            "_view_name": "LayoutView",
            "align_content": null,
            "align_items": null,
            "align_self": null,
            "border": null,
            "bottom": null,
            "display": null,
            "flex": null,
            "flex_flow": null,
            "grid_area": null,
            "grid_auto_columns": null,
            "grid_auto_flow": null,
            "grid_auto_rows": null,
            "grid_column": null,
            "grid_gap": null,
            "grid_row": null,
            "grid_template_areas": null,
            "grid_template_columns": null,
            "grid_template_rows": null,
            "height": null,
            "justify_content": null,
            "justify_items": null,
            "left": null,
            "margin": null,
            "max_height": null,
            "max_width": null,
            "min_height": null,
            "min_width": null,
            "object_fit": null,
            "object_position": null,
            "order": null,
            "overflow": null,
            "overflow_x": null,
            "overflow_y": null,
            "padding": null,
            "right": null,
            "top": null,
            "visibility": null,
            "width": null
          }
        },
        "2633cd0ac5b74bb896d2556cfbb038fe": {
          "model_module": "@jupyter-widgets/controls",
          "model_name": "ProgressStyleModel",
          "model_module_version": "1.5.0",
          "state": {
            "_model_module": "@jupyter-widgets/controls",
            "_model_module_version": "1.5.0",
            "_model_name": "ProgressStyleModel",
            "_view_count": null,
            "_view_module": "@jupyter-widgets/base",
            "_view_module_version": "1.2.0",
            "_view_name": "StyleView",
            "bar_color": null,
            "description_width": ""
          }
        },
        "a41b663617894666b9516f429e984099": {
          "model_module": "@jupyter-widgets/base",
          "model_name": "LayoutModel",
          "model_module_version": "1.2.0",
          "state": {
            "_model_module": "@jupyter-widgets/base",
            "_model_module_version": "1.2.0",
            "_model_name": "LayoutModel",
            "_view_count": null,
            "_view_module": "@jupyter-widgets/base",
            "_view_module_version": "1.2.0",
            "_view_name": "LayoutView",
            "align_content": null,
            "align_items": null,
            "align_self": null,
            "border": null,
            "bottom": null,
            "display": null,
            "flex": null,
            "flex_flow": null,
            "grid_area": null,
            "grid_auto_columns": null,
            "grid_auto_flow": null,
            "grid_auto_rows": null,
            "grid_column": null,
            "grid_gap": null,
            "grid_row": null,
            "grid_template_areas": null,
            "grid_template_columns": null,
            "grid_template_rows": null,
            "height": null,
            "justify_content": null,
            "justify_items": null,
            "left": null,
            "margin": null,
            "max_height": null,
            "max_width": null,
            "min_height": null,
            "min_width": null,
            "object_fit": null,
            "object_position": null,
            "order": null,
            "overflow": null,
            "overflow_x": null,
            "overflow_y": null,
            "padding": null,
            "right": null,
            "top": null,
            "visibility": null,
            "width": null
          }
        },
        "a5f9223736e9428f918f8cabe5c4872c": {
          "model_module": "@jupyter-widgets/controls",
          "model_name": "DescriptionStyleModel",
          "model_module_version": "1.5.0",
          "state": {
            "_model_module": "@jupyter-widgets/controls",
            "_model_module_version": "1.5.0",
            "_model_name": "DescriptionStyleModel",
            "_view_count": null,
            "_view_module": "@jupyter-widgets/base",
            "_view_module_version": "1.2.0",
            "_view_name": "StyleView",
            "description_width": ""
          }
        },
        "1aa30217e5fd431f8879ebbdfa905a56": {
          "model_module": "@jupyter-widgets/controls",
          "model_name": "HBoxModel",
          "model_module_version": "1.5.0",
          "state": {
            "_dom_classes": [],
            "_model_module": "@jupyter-widgets/controls",
            "_model_module_version": "1.5.0",
            "_model_name": "HBoxModel",
            "_view_count": null,
            "_view_module": "@jupyter-widgets/controls",
            "_view_module_version": "1.5.0",
            "_view_name": "HBoxView",
            "box_style": "",
            "children": [
              "IPY_MODEL_e3f5565f7254493d881a37a2c4f34d04",
              "IPY_MODEL_9c211dc8fa074f3093e54bd2da9320f0",
              "IPY_MODEL_3bc087b5de314e4e91fb2f58201489dc"
            ],
            "layout": "IPY_MODEL_0948b7e569c6470cbe1c34aa9998554c"
          }
        },
        "e3f5565f7254493d881a37a2c4f34d04": {
          "model_module": "@jupyter-widgets/controls",
          "model_name": "HTMLModel",
          "model_module_version": "1.5.0",
          "state": {
            "_dom_classes": [],
            "_model_module": "@jupyter-widgets/controls",
            "_model_module_version": "1.5.0",
            "_model_name": "HTMLModel",
            "_view_count": null,
            "_view_module": "@jupyter-widgets/controls",
            "_view_module_version": "1.5.0",
            "_view_name": "HTMLView",
            "description": "",
            "description_tooltip": null,
            "layout": "IPY_MODEL_4b7c53d55c284d6cb2bbe1c1288388ca",
            "placeholder": "​",
            "style": "IPY_MODEL_67ef6212234c4d868adbe20ef5cced7a",
            "value": "Render HTML: 100%"
          }
        },
        "9c211dc8fa074f3093e54bd2da9320f0": {
          "model_module": "@jupyter-widgets/controls",
          "model_name": "FloatProgressModel",
          "model_module_version": "1.5.0",
          "state": {
            "_dom_classes": [],
            "_model_module": "@jupyter-widgets/controls",
            "_model_module_version": "1.5.0",
            "_model_name": "FloatProgressModel",
            "_view_count": null,
            "_view_module": "@jupyter-widgets/controls",
            "_view_module_version": "1.5.0",
            "_view_name": "ProgressView",
            "bar_style": "success",
            "description": "",
            "description_tooltip": null,
            "layout": "IPY_MODEL_e7b2ea0e4e984977b203592c3243867f",
            "max": 1,
            "min": 0,
            "orientation": "horizontal",
            "style": "IPY_MODEL_6b3ee3910de342d2986123682d8c93e1",
            "value": 1
          }
        },
        "3bc087b5de314e4e91fb2f58201489dc": {
          "model_module": "@jupyter-widgets/controls",
          "model_name": "HTMLModel",
          "model_module_version": "1.5.0",
          "state": {
            "_dom_classes": [],
            "_model_module": "@jupyter-widgets/controls",
            "_model_module_version": "1.5.0",
            "_model_name": "HTMLModel",
            "_view_count": null,
            "_view_module": "@jupyter-widgets/controls",
            "_view_module_version": "1.5.0",
            "_view_name": "HTMLView",
            "description": "",
            "description_tooltip": null,
            "layout": "IPY_MODEL_edffb23b5bfd404895c2874faa50581a",
            "placeholder": "​",
            "style": "IPY_MODEL_0734cf2f772b44469addec8b2586f403",
            "value": " 1/1 [00:01&lt;00:00,  1.58s/it]"
          }
        },
        "0948b7e569c6470cbe1c34aa9998554c": {
          "model_module": "@jupyter-widgets/base",
          "model_name": "LayoutModel",
          "model_module_version": "1.2.0",
          "state": {
            "_model_module": "@jupyter-widgets/base",
            "_model_module_version": "1.2.0",
            "_model_name": "LayoutModel",
            "_view_count": null,
            "_view_module": "@jupyter-widgets/base",
            "_view_module_version": "1.2.0",
            "_view_name": "LayoutView",
            "align_content": null,
            "align_items": null,
            "align_self": null,
            "border": null,
            "bottom": null,
            "display": null,
            "flex": null,
            "flex_flow": null,
            "grid_area": null,
            "grid_auto_columns": null,
            "grid_auto_flow": null,
            "grid_auto_rows": null,
            "grid_column": null,
            "grid_gap": null,
            "grid_row": null,
            "grid_template_areas": null,
            "grid_template_columns": null,
            "grid_template_rows": null,
            "height": null,
            "justify_content": null,
            "justify_items": null,
            "left": null,
            "margin": null,
            "max_height": null,
            "max_width": null,
            "min_height": null,
            "min_width": null,
            "object_fit": null,
            "object_position": null,
            "order": null,
            "overflow": null,
            "overflow_x": null,
            "overflow_y": null,
            "padding": null,
            "right": null,
            "top": null,
            "visibility": null,
            "width": null
          }
        },
        "4b7c53d55c284d6cb2bbe1c1288388ca": {
          "model_module": "@jupyter-widgets/base",
          "model_name": "LayoutModel",
          "model_module_version": "1.2.0",
          "state": {
            "_model_module": "@jupyter-widgets/base",
            "_model_module_version": "1.2.0",
            "_model_name": "LayoutModel",
            "_view_count": null,
            "_view_module": "@jupyter-widgets/base",
            "_view_module_version": "1.2.0",
            "_view_name": "LayoutView",
            "align_content": null,
            "align_items": null,
            "align_self": null,
            "border": null,
            "bottom": null,
            "display": null,
            "flex": null,
            "flex_flow": null,
            "grid_area": null,
            "grid_auto_columns": null,
            "grid_auto_flow": null,
            "grid_auto_rows": null,
            "grid_column": null,
            "grid_gap": null,
            "grid_row": null,
            "grid_template_areas": null,
            "grid_template_columns": null,
            "grid_template_rows": null,
            "height": null,
            "justify_content": null,
            "justify_items": null,
            "left": null,
            "margin": null,
            "max_height": null,
            "max_width": null,
            "min_height": null,
            "min_width": null,
            "object_fit": null,
            "object_position": null,
            "order": null,
            "overflow": null,
            "overflow_x": null,
            "overflow_y": null,
            "padding": null,
            "right": null,
            "top": null,
            "visibility": null,
            "width": null
          }
        },
        "67ef6212234c4d868adbe20ef5cced7a": {
          "model_module": "@jupyter-widgets/controls",
          "model_name": "DescriptionStyleModel",
          "model_module_version": "1.5.0",
          "state": {
            "_model_module": "@jupyter-widgets/controls",
            "_model_module_version": "1.5.0",
            "_model_name": "DescriptionStyleModel",
            "_view_count": null,
            "_view_module": "@jupyter-widgets/base",
            "_view_module_version": "1.2.0",
            "_view_name": "StyleView",
            "description_width": ""
          }
        },
        "e7b2ea0e4e984977b203592c3243867f": {
          "model_module": "@jupyter-widgets/base",
          "model_name": "LayoutModel",
          "model_module_version": "1.2.0",
          "state": {
            "_model_module": "@jupyter-widgets/base",
            "_model_module_version": "1.2.0",
            "_model_name": "LayoutModel",
            "_view_count": null,
            "_view_module": "@jupyter-widgets/base",
            "_view_module_version": "1.2.0",
            "_view_name": "LayoutView",
            "align_content": null,
            "align_items": null,
            "align_self": null,
            "border": null,
            "bottom": null,
            "display": null,
            "flex": null,
            "flex_flow": null,
            "grid_area": null,
            "grid_auto_columns": null,
            "grid_auto_flow": null,
            "grid_auto_rows": null,
            "grid_column": null,
            "grid_gap": null,
            "grid_row": null,
            "grid_template_areas": null,
            "grid_template_columns": null,
            "grid_template_rows": null,
            "height": null,
            "justify_content": null,
            "justify_items": null,
            "left": null,
            "margin": null,
            "max_height": null,
            "max_width": null,
            "min_height": null,
            "min_width": null,
            "object_fit": null,
            "object_position": null,
            "order": null,
            "overflow": null,
            "overflow_x": null,
            "overflow_y": null,
            "padding": null,
            "right": null,
            "top": null,
            "visibility": null,
            "width": null
          }
        },
        "6b3ee3910de342d2986123682d8c93e1": {
          "model_module": "@jupyter-widgets/controls",
          "model_name": "ProgressStyleModel",
          "model_module_version": "1.5.0",
          "state": {
            "_model_module": "@jupyter-widgets/controls",
            "_model_module_version": "1.5.0",
            "_model_name": "ProgressStyleModel",
            "_view_count": null,
            "_view_module": "@jupyter-widgets/base",
            "_view_module_version": "1.2.0",
            "_view_name": "StyleView",
            "bar_color": null,
            "description_width": ""
          }
        },
        "edffb23b5bfd404895c2874faa50581a": {
          "model_module": "@jupyter-widgets/base",
          "model_name": "LayoutModel",
          "model_module_version": "1.2.0",
          "state": {
            "_model_module": "@jupyter-widgets/base",
            "_model_module_version": "1.2.0",
            "_model_name": "LayoutModel",
            "_view_count": null,
            "_view_module": "@jupyter-widgets/base",
            "_view_module_version": "1.2.0",
            "_view_name": "LayoutView",
            "align_content": null,
            "align_items": null,
            "align_self": null,
            "border": null,
            "bottom": null,
            "display": null,
            "flex": null,
            "flex_flow": null,
            "grid_area": null,
            "grid_auto_columns": null,
            "grid_auto_flow": null,
            "grid_auto_rows": null,
            "grid_column": null,
            "grid_gap": null,
            "grid_row": null,
            "grid_template_areas": null,
            "grid_template_columns": null,
            "grid_template_rows": null,
            "height": null,
            "justify_content": null,
            "justify_items": null,
            "left": null,
            "margin": null,
            "max_height": null,
            "max_width": null,
            "min_height": null,
            "min_width": null,
            "object_fit": null,
            "object_position": null,
            "order": null,
            "overflow": null,
            "overflow_x": null,
            "overflow_y": null,
            "padding": null,
            "right": null,
            "top": null,
            "visibility": null,
            "width": null
          }
        },
        "0734cf2f772b44469addec8b2586f403": {
          "model_module": "@jupyter-widgets/controls",
          "model_name": "DescriptionStyleModel",
          "model_module_version": "1.5.0",
          "state": {
            "_model_module": "@jupyter-widgets/controls",
            "_model_module_version": "1.5.0",
            "_model_name": "DescriptionStyleModel",
            "_view_count": null,
            "_view_module": "@jupyter-widgets/base",
            "_view_module_version": "1.2.0",
            "_view_name": "StyleView",
            "description_width": ""
          }
        },
        "b1b06833d5774ec989b91c8749285264": {
          "model_module": "@jupyter-widgets/controls",
          "model_name": "HBoxModel",
          "model_module_version": "1.5.0",
          "state": {
            "_dom_classes": [],
            "_model_module": "@jupyter-widgets/controls",
            "_model_module_version": "1.5.0",
            "_model_name": "HBoxModel",
            "_view_count": null,
            "_view_module": "@jupyter-widgets/controls",
            "_view_module_version": "1.5.0",
            "_view_name": "HBoxView",
            "box_style": "",
            "children": [
              "IPY_MODEL_342810eda43840f78a552b386b276880",
              "IPY_MODEL_7f00f99a673d443fb77d545b992b6f98",
              "IPY_MODEL_863f67cc6a524934a67cf62e10025117"
            ],
            "layout": "IPY_MODEL_6c4a4d724b9b44e7b0f74a9118df6101"
          }
        },
        "342810eda43840f78a552b386b276880": {
          "model_module": "@jupyter-widgets/controls",
          "model_name": "HTMLModel",
          "model_module_version": "1.5.0",
          "state": {
            "_dom_classes": [],
            "_model_module": "@jupyter-widgets/controls",
            "_model_module_version": "1.5.0",
            "_model_name": "HTMLModel",
            "_view_count": null,
            "_view_module": "@jupyter-widgets/controls",
            "_view_module_version": "1.5.0",
            "_view_name": "HTMLView",
            "description": "",
            "description_tooltip": null,
            "layout": "IPY_MODEL_70554baded0148a589087e4b987a0963",
            "placeholder": "​",
            "style": "IPY_MODEL_53ad78c6903847a991bb31026a9dc68f",
            "value": "Export report to file: 100%"
          }
        },
        "7f00f99a673d443fb77d545b992b6f98": {
          "model_module": "@jupyter-widgets/controls",
          "model_name": "FloatProgressModel",
          "model_module_version": "1.5.0",
          "state": {
            "_dom_classes": [],
            "_model_module": "@jupyter-widgets/controls",
            "_model_module_version": "1.5.0",
            "_model_name": "FloatProgressModel",
            "_view_count": null,
            "_view_module": "@jupyter-widgets/controls",
            "_view_module_version": "1.5.0",
            "_view_name": "ProgressView",
            "bar_style": "success",
            "description": "",
            "description_tooltip": null,
            "layout": "IPY_MODEL_c1574f99aec046df80285e01c30d4761",
            "max": 1,
            "min": 0,
            "orientation": "horizontal",
            "style": "IPY_MODEL_916265b87f7544a2ae760297e58922f0",
            "value": 1
          }
        },
        "863f67cc6a524934a67cf62e10025117": {
          "model_module": "@jupyter-widgets/controls",
          "model_name": "HTMLModel",
          "model_module_version": "1.5.0",
          "state": {
            "_dom_classes": [],
            "_model_module": "@jupyter-widgets/controls",
            "_model_module_version": "1.5.0",
            "_model_name": "HTMLModel",
            "_view_count": null,
            "_view_module": "@jupyter-widgets/controls",
            "_view_module_version": "1.5.0",
            "_view_name": "HTMLView",
            "description": "",
            "description_tooltip": null,
            "layout": "IPY_MODEL_80f3ac539e064e2981b264906b3adbc5",
            "placeholder": "​",
            "style": "IPY_MODEL_fac5bad0dd9245daa9f40e8dad1dcf3d",
            "value": " 1/1 [00:00&lt;00:00, 20.68it/s]"
          }
        },
        "6c4a4d724b9b44e7b0f74a9118df6101": {
          "model_module": "@jupyter-widgets/base",
          "model_name": "LayoutModel",
          "model_module_version": "1.2.0",
          "state": {
            "_model_module": "@jupyter-widgets/base",
            "_model_module_version": "1.2.0",
            "_model_name": "LayoutModel",
            "_view_count": null,
            "_view_module": "@jupyter-widgets/base",
            "_view_module_version": "1.2.0",
            "_view_name": "LayoutView",
            "align_content": null,
            "align_items": null,
            "align_self": null,
            "border": null,
            "bottom": null,
            "display": null,
            "flex": null,
            "flex_flow": null,
            "grid_area": null,
            "grid_auto_columns": null,
            "grid_auto_flow": null,
            "grid_auto_rows": null,
            "grid_column": null,
            "grid_gap": null,
            "grid_row": null,
            "grid_template_areas": null,
            "grid_template_columns": null,
            "grid_template_rows": null,
            "height": null,
            "justify_content": null,
            "justify_items": null,
            "left": null,
            "margin": null,
            "max_height": null,
            "max_width": null,
            "min_height": null,
            "min_width": null,
            "object_fit": null,
            "object_position": null,
            "order": null,
            "overflow": null,
            "overflow_x": null,
            "overflow_y": null,
            "padding": null,
            "right": null,
            "top": null,
            "visibility": null,
            "width": null
          }
        },
        "70554baded0148a589087e4b987a0963": {
          "model_module": "@jupyter-widgets/base",
          "model_name": "LayoutModel",
          "model_module_version": "1.2.0",
          "state": {
            "_model_module": "@jupyter-widgets/base",
            "_model_module_version": "1.2.0",
            "_model_name": "LayoutModel",
            "_view_count": null,
            "_view_module": "@jupyter-widgets/base",
            "_view_module_version": "1.2.0",
            "_view_name": "LayoutView",
            "align_content": null,
            "align_items": null,
            "align_self": null,
            "border": null,
            "bottom": null,
            "display": null,
            "flex": null,
            "flex_flow": null,
            "grid_area": null,
            "grid_auto_columns": null,
            "grid_auto_flow": null,
            "grid_auto_rows": null,
            "grid_column": null,
            "grid_gap": null,
            "grid_row": null,
            "grid_template_areas": null,
            "grid_template_columns": null,
            "grid_template_rows": null,
            "height": null,
            "justify_content": null,
            "justify_items": null,
            "left": null,
            "margin": null,
            "max_height": null,
            "max_width": null,
            "min_height": null,
            "min_width": null,
            "object_fit": null,
            "object_position": null,
            "order": null,
            "overflow": null,
            "overflow_x": null,
            "overflow_y": null,
            "padding": null,
            "right": null,
            "top": null,
            "visibility": null,
            "width": null
          }
        },
        "53ad78c6903847a991bb31026a9dc68f": {
          "model_module": "@jupyter-widgets/controls",
          "model_name": "DescriptionStyleModel",
          "model_module_version": "1.5.0",
          "state": {
            "_model_module": "@jupyter-widgets/controls",
            "_model_module_version": "1.5.0",
            "_model_name": "DescriptionStyleModel",
            "_view_count": null,
            "_view_module": "@jupyter-widgets/base",
            "_view_module_version": "1.2.0",
            "_view_name": "StyleView",
            "description_width": ""
          }
        },
        "c1574f99aec046df80285e01c30d4761": {
          "model_module": "@jupyter-widgets/base",
          "model_name": "LayoutModel",
          "model_module_version": "1.2.0",
          "state": {
            "_model_module": "@jupyter-widgets/base",
            "_model_module_version": "1.2.0",
            "_model_name": "LayoutModel",
            "_view_count": null,
            "_view_module": "@jupyter-widgets/base",
            "_view_module_version": "1.2.0",
            "_view_name": "LayoutView",
            "align_content": null,
            "align_items": null,
            "align_self": null,
            "border": null,
            "bottom": null,
            "display": null,
            "flex": null,
            "flex_flow": null,
            "grid_area": null,
            "grid_auto_columns": null,
            "grid_auto_flow": null,
            "grid_auto_rows": null,
            "grid_column": null,
            "grid_gap": null,
            "grid_row": null,
            "grid_template_areas": null,
            "grid_template_columns": null,
            "grid_template_rows": null,
            "height": null,
            "justify_content": null,
            "justify_items": null,
            "left": null,
            "margin": null,
            "max_height": null,
            "max_width": null,
            "min_height": null,
            "min_width": null,
            "object_fit": null,
            "object_position": null,
            "order": null,
            "overflow": null,
            "overflow_x": null,
            "overflow_y": null,
            "padding": null,
            "right": null,
            "top": null,
            "visibility": null,
            "width": null
          }
        },
        "916265b87f7544a2ae760297e58922f0": {
          "model_module": "@jupyter-widgets/controls",
          "model_name": "ProgressStyleModel",
          "model_module_version": "1.5.0",
          "state": {
            "_model_module": "@jupyter-widgets/controls",
            "_model_module_version": "1.5.0",
            "_model_name": "ProgressStyleModel",
            "_view_count": null,
            "_view_module": "@jupyter-widgets/base",
            "_view_module_version": "1.2.0",
            "_view_name": "StyleView",
            "bar_color": null,
            "description_width": ""
          }
        },
        "80f3ac539e064e2981b264906b3adbc5": {
          "model_module": "@jupyter-widgets/base",
          "model_name": "LayoutModel",
          "model_module_version": "1.2.0",
          "state": {
            "_model_module": "@jupyter-widgets/base",
            "_model_module_version": "1.2.0",
            "_model_name": "LayoutModel",
            "_view_count": null,
            "_view_module": "@jupyter-widgets/base",
            "_view_module_version": "1.2.0",
            "_view_name": "LayoutView",
            "align_content": null,
            "align_items": null,
            "align_self": null,
            "border": null,
            "bottom": null,
            "display": null,
            "flex": null,
            "flex_flow": null,
            "grid_area": null,
            "grid_auto_columns": null,
            "grid_auto_flow": null,
            "grid_auto_rows": null,
            "grid_column": null,
            "grid_gap": null,
            "grid_row": null,
            "grid_template_areas": null,
            "grid_template_columns": null,
            "grid_template_rows": null,
            "height": null,
            "justify_content": null,
            "justify_items": null,
            "left": null,
            "margin": null,
            "max_height": null,
            "max_width": null,
            "min_height": null,
            "min_width": null,
            "object_fit": null,
            "object_position": null,
            "order": null,
            "overflow": null,
            "overflow_x": null,
            "overflow_y": null,
            "padding": null,
            "right": null,
            "top": null,
            "visibility": null,
            "width": null
          }
        },
        "fac5bad0dd9245daa9f40e8dad1dcf3d": {
          "model_module": "@jupyter-widgets/controls",
          "model_name": "DescriptionStyleModel",
          "model_module_version": "1.5.0",
          "state": {
            "_model_module": "@jupyter-widgets/controls",
            "_model_module_version": "1.5.0",
            "_model_name": "DescriptionStyleModel",
            "_view_count": null,
            "_view_module": "@jupyter-widgets/base",
            "_view_module_version": "1.2.0",
            "_view_name": "StyleView",
            "description_width": ""
          }
        }
      }
    }
  },
  "cells": [
    {
      "cell_type": "markdown",
      "metadata": {
        "id": "view-in-github",
        "colab_type": "text"
      },
      "source": [
        "<a href=\"https://colab.research.google.com/github/SarahSouzaPontes/banco_Dos_Dados_18.05.2022_Pensionistas_Desigualdades/blob/main/Banco_Dos_Dados_18_05_2022_Pensionistas_Desigualdades.ipynb\" target=\"_parent\"><img src=\"https://colab.research.google.com/assets/colab-badge.svg\" alt=\"Open In Colab\"/></a>"
      ]
    },
    {
      "cell_type": "code",
      "execution_count": 2,
      "metadata": {
        "colab": {
          "base_uri": "https://localhost:8080/"
        },
        "id": "Uus09CSIgRqD",
        "outputId": "878b0cc4-bb7e-4298-e524-dd19b7758349"
      },
      "outputs": [
        {
          "output_type": "stream",
          "name": "stdout",
          "text": [
            "Collecting update\n",
            "  Downloading update-0.0.1-py2.py3-none-any.whl (2.9 kB)\n",
            "Requirement already satisfied: pip in /usr/local/lib/python3.7/dist-packages (21.1.3)\n",
            "Collecting style==1.1.0\n",
            "  Downloading style-1.1.0-py2.py3-none-any.whl (6.4 kB)\n",
            "Installing collected packages: style, update\n",
            "Successfully installed style-1.1.0 update-0.0.1\n",
            "\u001b[K     |████████████████████████████████| 21.8 MB 1.4 MB/s \n",
            "\u001b[K     |████████████████████████████████| 11.1 MB 21.5 MB/s \n",
            "\u001b[K     |████████████████████████████████| 596 kB 46.6 MB/s \n",
            "\u001b[K     |████████████████████████████████| 102 kB 58.1 MB/s \n",
            "\u001b[K     |████████████████████████████████| 690 kB 37.9 MB/s \n",
            "\u001b[K     |████████████████████████████████| 4.7 MB 60.0 MB/s \n",
            "\u001b[K     |████████████████████████████████| 63 kB 1.7 MB/s \n",
            "\u001b[K     |████████████████████████████████| 812 kB 61.6 MB/s \n",
            "\u001b[K     |████████████████████████████████| 38.1 MB 1.3 MB/s \n",
            "\u001b[?25h  Building wheel for pandas-profiling (setup.py) ... \u001b[?25l\u001b[?25hdone\n",
            "  Building wheel for htmlmin (setup.py) ... \u001b[?25l\u001b[?25hdone\n",
            "  Building wheel for imagehash (setup.py) ... \u001b[?25l\u001b[?25hdone\n",
            "\u001b[31mERROR: pip's dependency resolver does not currently take into account all the packages that are installed. This behaviour is the source of the following dependency conflicts.\n",
            "google-colab 1.0.0 requires requests~=2.23.0, but you have requests 2.27.1 which is incompatible.\n",
            "datascience 0.10.6 requires folium==0.2.1, but you have folium 0.8.3 which is incompatible.\n",
            "albumentations 0.1.12 requires imgaug<0.2.7,>=0.2.5, but you have imgaug 0.2.9 which is incompatible.\u001b[0m\n"
          ]
        }
      ],
      "source": [
        "#Instalação das bibliotecas importantes\n",
        "!pip install update pip\n",
        "!pip install pandas -q\n",
        "!pip install numpy -q\n",
        "!pip install sklearn -q\n",
        "!pip install imblearn -q\n",
        "!pip install statsmodels -q\n",
        "!pip install yellowbrick -q\n",
        "!pip uninstall pandas-profiling -y -q\n",
        "!pip install https://github.com/pandas-profiling/pandas-profiling/archive/master.zip -q"
      ]
    },
    {
      "cell_type": "code",
      "source": [
        "'''Importação dos módulos e funções'''\n",
        "\n",
        "\n",
        "import pandas as pd\n",
        "from pandas_profiling import ProfileReport\n",
        "import numpy as np\n",
        "import matplotlib.pyplot as plt\n",
        "from matplotlib import pylab\n",
        "from sklearn.cluster import KMeans\n",
        "from sklearn.decomposition import PCA\n",
        "from sklearn.metrics import homogeneity_completeness_v_measure\n",
        "from sklearn.manifold import TSNE\n",
        "from sklearn.preprocessing import MinMaxScaler, RobustScaler\n",
        "from sklearn.model_selection import train_test_split\n",
        "from sklearn.naive_bayes import GaussianNB\n",
        "from sklearn.model_selection import KFold\n",
        "from sklearn.model_selection import cross_val_score\n",
        "from sklearn.model_selection import cross_val_predict\n",
        "from sklearn.linear_model import LogisticRegression\n",
        "from sklearn.tree import DecisionTreeClassifier\n",
        "from sklearn.neighbors import KNeighborsClassifier\n",
        "from sklearn.discriminant_analysis import LinearDiscriminantAnalysis\n",
        "from sklearn.neural_network import MLPClassifier\n",
        "from sklearn.svm import SVC\n",
        "from sklearn.metrics import confusion_matrix\n",
        "import statsmodels.api as sm\n",
        "import warnings\n",
        "import seaborn as sns\n",
        "import imblearn\n",
        "from scipy import stats\n",
        "from yellowbrick.cluster import KElbowVisualizer\n",
        "import missingno as msno\n",
        "import datetime\n",
        "warnings.filterwarnings(\"ignore\")\n",
        "%matplotlib inline\n",
        "sns.set()\n"
      ],
      "metadata": {
        "colab": {
          "base_uri": "https://localhost:8080/"
        },
        "id": "E7Ba978ghC8P",
        "outputId": "002ccfe1-90be-4406-8718-a71b7e5f3042"
      },
      "execution_count": 3,
      "outputs": [
        {
          "output_type": "stream",
          "name": "stderr",
          "text": [
            "/usr/local/lib/python3.7/dist-packages/statsmodels/tools/_testing.py:19: FutureWarning: pandas.util.testing is deprecated. Use the functions in the public API at pandas.testing instead.\n",
            "  import pandas.util.testing as tm\n"
          ]
        }
      ]
    },
    {
      "cell_type": "code",
      "execution_count": 4,
      "metadata": {
        "colab": {
          "base_uri": "https://localhost:8080/"
        },
        "id": "RWSJpsyKqHjH",
        "outputId": "429b3632-01f0-41b1-fc06-7a7e36fc8963"
      },
      "outputs": [
        {
          "output_type": "stream",
          "name": "stdout",
          "text": [
            "Mounted at /content/drive\n"
          ]
        }
      ],
      "source": [
        "from google.colab import drive\n",
        "drive.mount('/content/drive')"
      ]
    },
    {
      "cell_type": "code",
      "source": [
        "\n",
        "'''\n",
        "Carregando os arquivos .csv como panda dataframe\n",
        "'''\n",
        "\n",
        "dataset = pd.read_csv('/content/drive/MyDrive/Colab Notebooks/br_me_pensionistas.csv',header = 0)"
      ],
      "metadata": {
        "id": "8kvTHR_VhU9G"
      },
      "execution_count": 5,
      "outputs": []
    },
    {
      "cell_type": "code",
      "source": [
        "dataset"
      ],
      "metadata": {
        "colab": {
          "base_uri": "https://localhost:8080/",
          "height": 905
        },
        "id": "FiY-qsUnhneI",
        "outputId": "82226607-914e-490f-cdb5-86ac6da72a16"
      },
      "execution_count": 6,
      "outputs": [
        {
          "output_type": "execute_result",
          "data": {
            "text/plain": [
              "         ano mes              nome_servidor cpf_servidor  \\\n",
              "0       1994  10      CAMILO GOMES DA SILVA  ***673711**   \n",
              "1       1994  10         CARLOS IVAN VIEIRA  ***110331**   \n",
              "2       1994  10          JOAO ARAGAO FILHO  ***999221**   \n",
              "3       1994  10   MANOEL RODRIGUES MIRANDA  ***463351**   \n",
              "4       1994  10   MANOEL RODRIGUES MIRANDA  ***463351**   \n",
              "...      ...  ..                        ...          ...   \n",
              "309998  1994  12  MAXIMIANO JOSE DE FREITAS          NaN   \n",
              "309999  1994  12         JOSE FREIRE TAVORA  ***971682**   \n",
              "310000  1994  12         JOSE FREIRE TAVORA  ***971682**   \n",
              "310001  1994  12   FATIMA DAS NEVES CINELLI  ***766727**   \n",
              "310002  1994  12       ALTAMIRANDO DE SOUZA  ***894627**   \n",
              "\n",
              "       data_nascimento_servidor data_falecimento_servidor matricula_servidor  \\\n",
              "0                    1914-07-14                1994-08-15       130000000065   \n",
              "1                    1937-08-08                1994-04-04       130000000069   \n",
              "2                    1926-01-20                1994-03-11       130000000162   \n",
              "3                    1944-01-16                1994-05-17       130000000244   \n",
              "4                    1944-01-16                1994-05-17       130000000244   \n",
              "...                         ...                       ...                ...   \n",
              "309998               1880-03-21                1969-02-08       250001077381   \n",
              "309999               1934-11-06                1983-10-25       250001077384   \n",
              "310000               1934-11-06                1983-10-25       250001077384   \n",
              "310001               1946-12-26                1991-12-26       250001077388   \n",
              "310002               1917-06-16                1974-11-03       250001077390   \n",
              "\n",
              "                                   nome_orgao sigla_orgao  \\\n",
              "0       MINIST. AGRICULTURA E REFORMA AGRARIA          MA   \n",
              "1       MINIST. AGRICULTURA E REFORMA AGRARIA          MA   \n",
              "2       MINIST. AGRICULTURA E REFORMA AGRARIA          MA   \n",
              "3       MINIST. AGRICULTURA E REFORMA AGRARIA          MA   \n",
              "4       MINIST. AGRICULTURA E REFORMA AGRARIA          MA   \n",
              "...                                       ...         ...   \n",
              "309998                    MINISTERIO DA SAUDE          MS   \n",
              "309999                    MINISTERIO DA SAUDE          MS   \n",
              "310000                    MINISTERIO DA SAUDE          MS   \n",
              "310001                    MINISTERIO DA SAUDE          MS   \n",
              "310002                    MINISTERIO DA SAUDE          MS   \n",
              "\n",
              "       codigo_orgao_superior  ... data_nascimento_beneficiario  \\\n",
              "0                          0  ...                   1914-12-14   \n",
              "1                          0  ...                   1935-01-01   \n",
              "2                          0  ...                   1939-12-13   \n",
              "3                          0  ...                   1940-01-20   \n",
              "4                          0  ...                   1980-05-17   \n",
              "...                      ...  ...                          ...   \n",
              "309998                     0  ...                   1911-11-27   \n",
              "309999                     0  ...                   1939-05-14   \n",
              "310000                     0  ...                   1975-04-22   \n",
              "310001                     0  ...                   1974-02-16   \n",
              "310002                     0  ...                   1917-11-15   \n",
              "\n",
              "       sigla_uf_upag_vinculacao  \\\n",
              "0                            DF   \n",
              "1                            DF   \n",
              "2                            DF   \n",
              "3                            DF   \n",
              "4                            DF   \n",
              "...                         ...   \n",
              "309998                       DF   \n",
              "309999                       DF   \n",
              "310000                       DF   \n",
              "310001                       RJ   \n",
              "310002                       DF   \n",
              "\n",
              "                                        tipo_beneficiario  tipo_pensao  \\\n",
              "0                                                   VIUVA  LEI 8112/90   \n",
              "1                                                   VIUVA  LEI 8112/90   \n",
              "2                                                   VIUVA  LEI 8112/90   \n",
              "3                                                   VIUVA  LEI 8112/90   \n",
              "4                                                   FILHO  LEI 8112/90   \n",
              "...                                                   ...          ...   \n",
              "309998  FILHA MAIOR SOLTEIRA SEM CARGO PUBLICO PERMANENTE  LEI 3373/58   \n",
              "309999                                              VIUVA  LEI 3373/58   \n",
              "310000  FILHA MAIOR SOLTEIRA SEM CARGO PUBLICO PERMANENTE  LEI 3373/58   \n",
              "310001                                              FILHA  LEI 8112/90   \n",
              "310002                                              VIUVA  LEI 3373/58   \n",
              "\n",
              "       natureza_pensao data_inicio_beneficio data_fim_beneficio  \\\n",
              "0            VITALICIA            1994-08-15                NaN   \n",
              "1            VITALICIA            1994-04-04                NaN   \n",
              "2            VITALICIA            1994-03-11                NaN   \n",
              "3            VITALICIA            1994-05-18                NaN   \n",
              "4           TEMPORARIA            1994-05-17         2001-05-17   \n",
              "...                ...                   ...                ...   \n",
              "309998      TEMPORARIA            1969-02-08                NaN   \n",
              "309999       VITALICIA            1983-11-25                NaN   \n",
              "310000      TEMPORARIA            1983-11-25                NaN   \n",
              "310001      TEMPORARIA            1991-12-27         1995-02-16   \n",
              "310002       VITALICIA            1974-12-01                NaN   \n",
              "\n",
              "       rendimento_bruto rendimento_liquido pagamento_suspenso  \n",
              "0                401.06             401.06                NAO  \n",
              "1               3566.22            2856.93                NAO  \n",
              "2                524.79             524.79                NAO  \n",
              "3                101.29             101.29                NAO  \n",
              "4                101.29             101.29                NAO  \n",
              "...                 ...                ...                ...  \n",
              "309998           685.95             685.95                NAO  \n",
              "309999           483.36             483.36                NAO  \n",
              "310000           483.36             483.36                NAO  \n",
              "310001           1537.3            1506.23                NAO  \n",
              "310002          1324.26            1324.26                NAO  \n",
              "\n",
              "[310003 rows x 30 columns]"
            ],
            "text/html": [
              "\n",
              "  <div id=\"df-3ed48cf7-ebfd-40f6-aa77-60d0793b5df5\">\n",
              "    <div class=\"colab-df-container\">\n",
              "      <div>\n",
              "<style scoped>\n",
              "    .dataframe tbody tr th:only-of-type {\n",
              "        vertical-align: middle;\n",
              "    }\n",
              "\n",
              "    .dataframe tbody tr th {\n",
              "        vertical-align: top;\n",
              "    }\n",
              "\n",
              "    .dataframe thead th {\n",
              "        text-align: right;\n",
              "    }\n",
              "</style>\n",
              "<table border=\"1\" class=\"dataframe\">\n",
              "  <thead>\n",
              "    <tr style=\"text-align: right;\">\n",
              "      <th></th>\n",
              "      <th>ano</th>\n",
              "      <th>mes</th>\n",
              "      <th>nome_servidor</th>\n",
              "      <th>cpf_servidor</th>\n",
              "      <th>data_nascimento_servidor</th>\n",
              "      <th>data_falecimento_servidor</th>\n",
              "      <th>matricula_servidor</th>\n",
              "      <th>nome_orgao</th>\n",
              "      <th>sigla_orgao</th>\n",
              "      <th>codigo_orgao_superior</th>\n",
              "      <th>...</th>\n",
              "      <th>data_nascimento_beneficiario</th>\n",
              "      <th>sigla_uf_upag_vinculacao</th>\n",
              "      <th>tipo_beneficiario</th>\n",
              "      <th>tipo_pensao</th>\n",
              "      <th>natureza_pensao</th>\n",
              "      <th>data_inicio_beneficio</th>\n",
              "      <th>data_fim_beneficio</th>\n",
              "      <th>rendimento_bruto</th>\n",
              "      <th>rendimento_liquido</th>\n",
              "      <th>pagamento_suspenso</th>\n",
              "    </tr>\n",
              "  </thead>\n",
              "  <tbody>\n",
              "    <tr>\n",
              "      <th>0</th>\n",
              "      <td>1994</td>\n",
              "      <td>10</td>\n",
              "      <td>CAMILO GOMES DA SILVA</td>\n",
              "      <td>***673711**</td>\n",
              "      <td>1914-07-14</td>\n",
              "      <td>1994-08-15</td>\n",
              "      <td>130000000065</td>\n",
              "      <td>MINIST. AGRICULTURA E REFORMA AGRARIA</td>\n",
              "      <td>MA</td>\n",
              "      <td>0</td>\n",
              "      <td>...</td>\n",
              "      <td>1914-12-14</td>\n",
              "      <td>DF</td>\n",
              "      <td>VIUVA</td>\n",
              "      <td>LEI 8112/90</td>\n",
              "      <td>VITALICIA</td>\n",
              "      <td>1994-08-15</td>\n",
              "      <td>NaN</td>\n",
              "      <td>401.06</td>\n",
              "      <td>401.06</td>\n",
              "      <td>NAO</td>\n",
              "    </tr>\n",
              "    <tr>\n",
              "      <th>1</th>\n",
              "      <td>1994</td>\n",
              "      <td>10</td>\n",
              "      <td>CARLOS IVAN VIEIRA</td>\n",
              "      <td>***110331**</td>\n",
              "      <td>1937-08-08</td>\n",
              "      <td>1994-04-04</td>\n",
              "      <td>130000000069</td>\n",
              "      <td>MINIST. AGRICULTURA E REFORMA AGRARIA</td>\n",
              "      <td>MA</td>\n",
              "      <td>0</td>\n",
              "      <td>...</td>\n",
              "      <td>1935-01-01</td>\n",
              "      <td>DF</td>\n",
              "      <td>VIUVA</td>\n",
              "      <td>LEI 8112/90</td>\n",
              "      <td>VITALICIA</td>\n",
              "      <td>1994-04-04</td>\n",
              "      <td>NaN</td>\n",
              "      <td>3566.22</td>\n",
              "      <td>2856.93</td>\n",
              "      <td>NAO</td>\n",
              "    </tr>\n",
              "    <tr>\n",
              "      <th>2</th>\n",
              "      <td>1994</td>\n",
              "      <td>10</td>\n",
              "      <td>JOAO ARAGAO FILHO</td>\n",
              "      <td>***999221**</td>\n",
              "      <td>1926-01-20</td>\n",
              "      <td>1994-03-11</td>\n",
              "      <td>130000000162</td>\n",
              "      <td>MINIST. AGRICULTURA E REFORMA AGRARIA</td>\n",
              "      <td>MA</td>\n",
              "      <td>0</td>\n",
              "      <td>...</td>\n",
              "      <td>1939-12-13</td>\n",
              "      <td>DF</td>\n",
              "      <td>VIUVA</td>\n",
              "      <td>LEI 8112/90</td>\n",
              "      <td>VITALICIA</td>\n",
              "      <td>1994-03-11</td>\n",
              "      <td>NaN</td>\n",
              "      <td>524.79</td>\n",
              "      <td>524.79</td>\n",
              "      <td>NAO</td>\n",
              "    </tr>\n",
              "    <tr>\n",
              "      <th>3</th>\n",
              "      <td>1994</td>\n",
              "      <td>10</td>\n",
              "      <td>MANOEL RODRIGUES MIRANDA</td>\n",
              "      <td>***463351**</td>\n",
              "      <td>1944-01-16</td>\n",
              "      <td>1994-05-17</td>\n",
              "      <td>130000000244</td>\n",
              "      <td>MINIST. AGRICULTURA E REFORMA AGRARIA</td>\n",
              "      <td>MA</td>\n",
              "      <td>0</td>\n",
              "      <td>...</td>\n",
              "      <td>1940-01-20</td>\n",
              "      <td>DF</td>\n",
              "      <td>VIUVA</td>\n",
              "      <td>LEI 8112/90</td>\n",
              "      <td>VITALICIA</td>\n",
              "      <td>1994-05-18</td>\n",
              "      <td>NaN</td>\n",
              "      <td>101.29</td>\n",
              "      <td>101.29</td>\n",
              "      <td>NAO</td>\n",
              "    </tr>\n",
              "    <tr>\n",
              "      <th>4</th>\n",
              "      <td>1994</td>\n",
              "      <td>10</td>\n",
              "      <td>MANOEL RODRIGUES MIRANDA</td>\n",
              "      <td>***463351**</td>\n",
              "      <td>1944-01-16</td>\n",
              "      <td>1994-05-17</td>\n",
              "      <td>130000000244</td>\n",
              "      <td>MINIST. AGRICULTURA E REFORMA AGRARIA</td>\n",
              "      <td>MA</td>\n",
              "      <td>0</td>\n",
              "      <td>...</td>\n",
              "      <td>1980-05-17</td>\n",
              "      <td>DF</td>\n",
              "      <td>FILHO</td>\n",
              "      <td>LEI 8112/90</td>\n",
              "      <td>TEMPORARIA</td>\n",
              "      <td>1994-05-17</td>\n",
              "      <td>2001-05-17</td>\n",
              "      <td>101.29</td>\n",
              "      <td>101.29</td>\n",
              "      <td>NAO</td>\n",
              "    </tr>\n",
              "    <tr>\n",
              "      <th>...</th>\n",
              "      <td>...</td>\n",
              "      <td>...</td>\n",
              "      <td>...</td>\n",
              "      <td>...</td>\n",
              "      <td>...</td>\n",
              "      <td>...</td>\n",
              "      <td>...</td>\n",
              "      <td>...</td>\n",
              "      <td>...</td>\n",
              "      <td>...</td>\n",
              "      <td>...</td>\n",
              "      <td>...</td>\n",
              "      <td>...</td>\n",
              "      <td>...</td>\n",
              "      <td>...</td>\n",
              "      <td>...</td>\n",
              "      <td>...</td>\n",
              "      <td>...</td>\n",
              "      <td>...</td>\n",
              "      <td>...</td>\n",
              "      <td>...</td>\n",
              "    </tr>\n",
              "    <tr>\n",
              "      <th>309998</th>\n",
              "      <td>1994</td>\n",
              "      <td>12</td>\n",
              "      <td>MAXIMIANO JOSE DE FREITAS</td>\n",
              "      <td>NaN</td>\n",
              "      <td>1880-03-21</td>\n",
              "      <td>1969-02-08</td>\n",
              "      <td>250001077381</td>\n",
              "      <td>MINISTERIO DA SAUDE</td>\n",
              "      <td>MS</td>\n",
              "      <td>0</td>\n",
              "      <td>...</td>\n",
              "      <td>1911-11-27</td>\n",
              "      <td>DF</td>\n",
              "      <td>FILHA MAIOR SOLTEIRA SEM CARGO PUBLICO PERMANENTE</td>\n",
              "      <td>LEI 3373/58</td>\n",
              "      <td>TEMPORARIA</td>\n",
              "      <td>1969-02-08</td>\n",
              "      <td>NaN</td>\n",
              "      <td>685.95</td>\n",
              "      <td>685.95</td>\n",
              "      <td>NAO</td>\n",
              "    </tr>\n",
              "    <tr>\n",
              "      <th>309999</th>\n",
              "      <td>1994</td>\n",
              "      <td>12</td>\n",
              "      <td>JOSE FREIRE TAVORA</td>\n",
              "      <td>***971682**</td>\n",
              "      <td>1934-11-06</td>\n",
              "      <td>1983-10-25</td>\n",
              "      <td>250001077384</td>\n",
              "      <td>MINISTERIO DA SAUDE</td>\n",
              "      <td>MS</td>\n",
              "      <td>0</td>\n",
              "      <td>...</td>\n",
              "      <td>1939-05-14</td>\n",
              "      <td>DF</td>\n",
              "      <td>VIUVA</td>\n",
              "      <td>LEI 3373/58</td>\n",
              "      <td>VITALICIA</td>\n",
              "      <td>1983-11-25</td>\n",
              "      <td>NaN</td>\n",
              "      <td>483.36</td>\n",
              "      <td>483.36</td>\n",
              "      <td>NAO</td>\n",
              "    </tr>\n",
              "    <tr>\n",
              "      <th>310000</th>\n",
              "      <td>1994</td>\n",
              "      <td>12</td>\n",
              "      <td>JOSE FREIRE TAVORA</td>\n",
              "      <td>***971682**</td>\n",
              "      <td>1934-11-06</td>\n",
              "      <td>1983-10-25</td>\n",
              "      <td>250001077384</td>\n",
              "      <td>MINISTERIO DA SAUDE</td>\n",
              "      <td>MS</td>\n",
              "      <td>0</td>\n",
              "      <td>...</td>\n",
              "      <td>1975-04-22</td>\n",
              "      <td>DF</td>\n",
              "      <td>FILHA MAIOR SOLTEIRA SEM CARGO PUBLICO PERMANENTE</td>\n",
              "      <td>LEI 3373/58</td>\n",
              "      <td>TEMPORARIA</td>\n",
              "      <td>1983-11-25</td>\n",
              "      <td>NaN</td>\n",
              "      <td>483.36</td>\n",
              "      <td>483.36</td>\n",
              "      <td>NAO</td>\n",
              "    </tr>\n",
              "    <tr>\n",
              "      <th>310001</th>\n",
              "      <td>1994</td>\n",
              "      <td>12</td>\n",
              "      <td>FATIMA DAS NEVES CINELLI</td>\n",
              "      <td>***766727**</td>\n",
              "      <td>1946-12-26</td>\n",
              "      <td>1991-12-26</td>\n",
              "      <td>250001077388</td>\n",
              "      <td>MINISTERIO DA SAUDE</td>\n",
              "      <td>MS</td>\n",
              "      <td>0</td>\n",
              "      <td>...</td>\n",
              "      <td>1974-02-16</td>\n",
              "      <td>RJ</td>\n",
              "      <td>FILHA</td>\n",
              "      <td>LEI 8112/90</td>\n",
              "      <td>TEMPORARIA</td>\n",
              "      <td>1991-12-27</td>\n",
              "      <td>1995-02-16</td>\n",
              "      <td>1537.3</td>\n",
              "      <td>1506.23</td>\n",
              "      <td>NAO</td>\n",
              "    </tr>\n",
              "    <tr>\n",
              "      <th>310002</th>\n",
              "      <td>1994</td>\n",
              "      <td>12</td>\n",
              "      <td>ALTAMIRANDO DE SOUZA</td>\n",
              "      <td>***894627**</td>\n",
              "      <td>1917-06-16</td>\n",
              "      <td>1974-11-03</td>\n",
              "      <td>250001077390</td>\n",
              "      <td>MINISTERIO DA SAUDE</td>\n",
              "      <td>MS</td>\n",
              "      <td>0</td>\n",
              "      <td>...</td>\n",
              "      <td>1917-11-15</td>\n",
              "      <td>DF</td>\n",
              "      <td>VIUVA</td>\n",
              "      <td>LEI 3373/58</td>\n",
              "      <td>VITALICIA</td>\n",
              "      <td>1974-12-01</td>\n",
              "      <td>NaN</td>\n",
              "      <td>1324.26</td>\n",
              "      <td>1324.26</td>\n",
              "      <td>NAO</td>\n",
              "    </tr>\n",
              "  </tbody>\n",
              "</table>\n",
              "<p>310003 rows × 30 columns</p>\n",
              "</div>\n",
              "      <button class=\"colab-df-convert\" onclick=\"convertToInteractive('df-3ed48cf7-ebfd-40f6-aa77-60d0793b5df5')\"\n",
              "              title=\"Convert this dataframe to an interactive table.\"\n",
              "              style=\"display:none;\">\n",
              "        \n",
              "  <svg xmlns=\"http://www.w3.org/2000/svg\" height=\"24px\"viewBox=\"0 0 24 24\"\n",
              "       width=\"24px\">\n",
              "    <path d=\"M0 0h24v24H0V0z\" fill=\"none\"/>\n",
              "    <path d=\"M18.56 5.44l.94 2.06.94-2.06 2.06-.94-2.06-.94-.94-2.06-.94 2.06-2.06.94zm-11 1L8.5 8.5l.94-2.06 2.06-.94-2.06-.94L8.5 2.5l-.94 2.06-2.06.94zm10 10l.94 2.06.94-2.06 2.06-.94-2.06-.94-.94-2.06-.94 2.06-2.06.94z\"/><path d=\"M17.41 7.96l-1.37-1.37c-.4-.4-.92-.59-1.43-.59-.52 0-1.04.2-1.43.59L10.3 9.45l-7.72 7.72c-.78.78-.78 2.05 0 2.83L4 21.41c.39.39.9.59 1.41.59.51 0 1.02-.2 1.41-.59l7.78-7.78 2.81-2.81c.8-.78.8-2.07 0-2.86zM5.41 20L4 18.59l7.72-7.72 1.47 1.35L5.41 20z\"/>\n",
              "  </svg>\n",
              "      </button>\n",
              "      \n",
              "  <style>\n",
              "    .colab-df-container {\n",
              "      display:flex;\n",
              "      flex-wrap:wrap;\n",
              "      gap: 12px;\n",
              "    }\n",
              "\n",
              "    .colab-df-convert {\n",
              "      background-color: #E8F0FE;\n",
              "      border: none;\n",
              "      border-radius: 50%;\n",
              "      cursor: pointer;\n",
              "      display: none;\n",
              "      fill: #1967D2;\n",
              "      height: 32px;\n",
              "      padding: 0 0 0 0;\n",
              "      width: 32px;\n",
              "    }\n",
              "\n",
              "    .colab-df-convert:hover {\n",
              "      background-color: #E2EBFA;\n",
              "      box-shadow: 0px 1px 2px rgba(60, 64, 67, 0.3), 0px 1px 3px 1px rgba(60, 64, 67, 0.15);\n",
              "      fill: #174EA6;\n",
              "    }\n",
              "\n",
              "    [theme=dark] .colab-df-convert {\n",
              "      background-color: #3B4455;\n",
              "      fill: #D2E3FC;\n",
              "    }\n",
              "\n",
              "    [theme=dark] .colab-df-convert:hover {\n",
              "      background-color: #434B5C;\n",
              "      box-shadow: 0px 1px 3px 1px rgba(0, 0, 0, 0.15);\n",
              "      filter: drop-shadow(0px 1px 2px rgba(0, 0, 0, 0.3));\n",
              "      fill: #FFFFFF;\n",
              "    }\n",
              "  </style>\n",
              "\n",
              "      <script>\n",
              "        const buttonEl =\n",
              "          document.querySelector('#df-3ed48cf7-ebfd-40f6-aa77-60d0793b5df5 button.colab-df-convert');\n",
              "        buttonEl.style.display =\n",
              "          google.colab.kernel.accessAllowed ? 'block' : 'none';\n",
              "\n",
              "        async function convertToInteractive(key) {\n",
              "          const element = document.querySelector('#df-3ed48cf7-ebfd-40f6-aa77-60d0793b5df5');\n",
              "          const dataTable =\n",
              "            await google.colab.kernel.invokeFunction('convertToInteractive',\n",
              "                                                     [key], {});\n",
              "          if (!dataTable) return;\n",
              "\n",
              "          const docLinkHtml = 'Like what you see? Visit the ' +\n",
              "            '<a target=\"_blank\" href=https://colab.research.google.com/notebooks/data_table.ipynb>data table notebook</a>'\n",
              "            + ' to learn more about interactive tables.';\n",
              "          element.innerHTML = '';\n",
              "          dataTable['output_type'] = 'display_data';\n",
              "          await google.colab.output.renderOutput(dataTable, element);\n",
              "          const docLink = document.createElement('div');\n",
              "          docLink.innerHTML = docLinkHtml;\n",
              "          element.appendChild(docLink);\n",
              "        }\n",
              "      </script>\n",
              "    </div>\n",
              "  </div>\n",
              "  "
            ]
          },
          "metadata": {},
          "execution_count": 6
        }
      ]
    },
    {
      "cell_type": "code",
      "source": [
        "dataset.describe()"
      ],
      "metadata": {
        "colab": {
          "base_uri": "https://localhost:8080/",
          "height": 320
        },
        "id": "xobswFU4hrwp",
        "outputId": "df53f963-3c14-48c5-a642-f3bb174d63f1"
      },
      "execution_count": 7,
      "outputs": [
        {
          "output_type": "execute_result",
          "data": {
            "text/plain": [
              "           ano     mes    nome_servidor cpf_servidor data_nascimento_servidor  \\\n",
              "count   310003  310003           277142       119471                   186590   \n",
              "unique       3       4            58519        25373                    16750   \n",
              "top       1994      12  JOSE DOS SANTOS  ***000001**               1933-03-03   \n",
              "freq    211699  211699              144           63                      987   \n",
              "\n",
              "       data_falecimento_servidor  matricula_servidor             nome_orgao  \\\n",
              "count                     273737              310003                 310003   \n",
              "unique                     15423               74796                     16   \n",
              "top                   1991-12-01        170001290557  MINISTERIO DA FAZENDA   \n",
              "freq                         219               18009                  74733   \n",
              "\n",
              "       sigla_orgao  codigo_orgao_superior  ... data_nascimento_beneficiario  \\\n",
              "count       310003                 310003  ...                       297197   \n",
              "unique          16                      6  ...                        28321   \n",
              "top             MF                      0  ...                   1930-01-01   \n",
              "freq         74733                 201244  ...                          342   \n",
              "\n",
              "       sigla_uf_upag_vinculacao tipo_beneficiario  \\\n",
              "count                    277142            277160   \n",
              "unique                       27                42   \n",
              "top                          RJ             VIUVA   \n",
              "freq                      72901            138744   \n",
              "\n",
              "                              tipo_pensao  natureza_pensao  \\\n",
              "count                              309466           309466   \n",
              "unique                                 23                3   \n",
              "top     LEI 3373/58 COMBINADA COM 6782/80        VITALICIA   \n",
              "freq                               128890           158985   \n",
              "\n",
              "        data_inicio_beneficio data_fim_beneficio rendimento_bruto  \\\n",
              "count                  280789              22318         310003.0   \n",
              "unique                  14144               3919          56439.0   \n",
              "top                1980-05-20         1998-12-01              0.0   \n",
              "freq                    10806                 26           1599.0   \n",
              "\n",
              "       rendimento_liquido pagamento_suspenso  \n",
              "count            310003.0             310003  \n",
              "unique            56922.0                  3  \n",
              "top                   0.0                NAO  \n",
              "freq               1605.0             307479  \n",
              "\n",
              "[4 rows x 30 columns]"
            ],
            "text/html": [
              "\n",
              "  <div id=\"df-08a157d8-42da-4dfe-9c35-64ae86a59961\">\n",
              "    <div class=\"colab-df-container\">\n",
              "      <div>\n",
              "<style scoped>\n",
              "    .dataframe tbody tr th:only-of-type {\n",
              "        vertical-align: middle;\n",
              "    }\n",
              "\n",
              "    .dataframe tbody tr th {\n",
              "        vertical-align: top;\n",
              "    }\n",
              "\n",
              "    .dataframe thead th {\n",
              "        text-align: right;\n",
              "    }\n",
              "</style>\n",
              "<table border=\"1\" class=\"dataframe\">\n",
              "  <thead>\n",
              "    <tr style=\"text-align: right;\">\n",
              "      <th></th>\n",
              "      <th>ano</th>\n",
              "      <th>mes</th>\n",
              "      <th>nome_servidor</th>\n",
              "      <th>cpf_servidor</th>\n",
              "      <th>data_nascimento_servidor</th>\n",
              "      <th>data_falecimento_servidor</th>\n",
              "      <th>matricula_servidor</th>\n",
              "      <th>nome_orgao</th>\n",
              "      <th>sigla_orgao</th>\n",
              "      <th>codigo_orgao_superior</th>\n",
              "      <th>...</th>\n",
              "      <th>data_nascimento_beneficiario</th>\n",
              "      <th>sigla_uf_upag_vinculacao</th>\n",
              "      <th>tipo_beneficiario</th>\n",
              "      <th>tipo_pensao</th>\n",
              "      <th>natureza_pensao</th>\n",
              "      <th>data_inicio_beneficio</th>\n",
              "      <th>data_fim_beneficio</th>\n",
              "      <th>rendimento_bruto</th>\n",
              "      <th>rendimento_liquido</th>\n",
              "      <th>pagamento_suspenso</th>\n",
              "    </tr>\n",
              "  </thead>\n",
              "  <tbody>\n",
              "    <tr>\n",
              "      <th>count</th>\n",
              "      <td>310003</td>\n",
              "      <td>310003</td>\n",
              "      <td>277142</td>\n",
              "      <td>119471</td>\n",
              "      <td>186590</td>\n",
              "      <td>273737</td>\n",
              "      <td>310003</td>\n",
              "      <td>310003</td>\n",
              "      <td>310003</td>\n",
              "      <td>310003</td>\n",
              "      <td>...</td>\n",
              "      <td>297197</td>\n",
              "      <td>277142</td>\n",
              "      <td>277160</td>\n",
              "      <td>309466</td>\n",
              "      <td>309466</td>\n",
              "      <td>280789</td>\n",
              "      <td>22318</td>\n",
              "      <td>310003.0</td>\n",
              "      <td>310003.0</td>\n",
              "      <td>310003</td>\n",
              "    </tr>\n",
              "    <tr>\n",
              "      <th>unique</th>\n",
              "      <td>3</td>\n",
              "      <td>4</td>\n",
              "      <td>58519</td>\n",
              "      <td>25373</td>\n",
              "      <td>16750</td>\n",
              "      <td>15423</td>\n",
              "      <td>74796</td>\n",
              "      <td>16</td>\n",
              "      <td>16</td>\n",
              "      <td>6</td>\n",
              "      <td>...</td>\n",
              "      <td>28321</td>\n",
              "      <td>27</td>\n",
              "      <td>42</td>\n",
              "      <td>23</td>\n",
              "      <td>3</td>\n",
              "      <td>14144</td>\n",
              "      <td>3919</td>\n",
              "      <td>56439.0</td>\n",
              "      <td>56922.0</td>\n",
              "      <td>3</td>\n",
              "    </tr>\n",
              "    <tr>\n",
              "      <th>top</th>\n",
              "      <td>1994</td>\n",
              "      <td>12</td>\n",
              "      <td>JOSE DOS SANTOS</td>\n",
              "      <td>***000001**</td>\n",
              "      <td>1933-03-03</td>\n",
              "      <td>1991-12-01</td>\n",
              "      <td>170001290557</td>\n",
              "      <td>MINISTERIO DA FAZENDA</td>\n",
              "      <td>MF</td>\n",
              "      <td>0</td>\n",
              "      <td>...</td>\n",
              "      <td>1930-01-01</td>\n",
              "      <td>RJ</td>\n",
              "      <td>VIUVA</td>\n",
              "      <td>LEI 3373/58 COMBINADA COM 6782/80</td>\n",
              "      <td>VITALICIA</td>\n",
              "      <td>1980-05-20</td>\n",
              "      <td>1998-12-01</td>\n",
              "      <td>0.0</td>\n",
              "      <td>0.0</td>\n",
              "      <td>NAO</td>\n",
              "    </tr>\n",
              "    <tr>\n",
              "      <th>freq</th>\n",
              "      <td>211699</td>\n",
              "      <td>211699</td>\n",
              "      <td>144</td>\n",
              "      <td>63</td>\n",
              "      <td>987</td>\n",
              "      <td>219</td>\n",
              "      <td>18009</td>\n",
              "      <td>74733</td>\n",
              "      <td>74733</td>\n",
              "      <td>201244</td>\n",
              "      <td>...</td>\n",
              "      <td>342</td>\n",
              "      <td>72901</td>\n",
              "      <td>138744</td>\n",
              "      <td>128890</td>\n",
              "      <td>158985</td>\n",
              "      <td>10806</td>\n",
              "      <td>26</td>\n",
              "      <td>1599.0</td>\n",
              "      <td>1605.0</td>\n",
              "      <td>307479</td>\n",
              "    </tr>\n",
              "  </tbody>\n",
              "</table>\n",
              "<p>4 rows × 30 columns</p>\n",
              "</div>\n",
              "      <button class=\"colab-df-convert\" onclick=\"convertToInteractive('df-08a157d8-42da-4dfe-9c35-64ae86a59961')\"\n",
              "              title=\"Convert this dataframe to an interactive table.\"\n",
              "              style=\"display:none;\">\n",
              "        \n",
              "  <svg xmlns=\"http://www.w3.org/2000/svg\" height=\"24px\"viewBox=\"0 0 24 24\"\n",
              "       width=\"24px\">\n",
              "    <path d=\"M0 0h24v24H0V0z\" fill=\"none\"/>\n",
              "    <path d=\"M18.56 5.44l.94 2.06.94-2.06 2.06-.94-2.06-.94-.94-2.06-.94 2.06-2.06.94zm-11 1L8.5 8.5l.94-2.06 2.06-.94-2.06-.94L8.5 2.5l-.94 2.06-2.06.94zm10 10l.94 2.06.94-2.06 2.06-.94-2.06-.94-.94-2.06-.94 2.06-2.06.94z\"/><path d=\"M17.41 7.96l-1.37-1.37c-.4-.4-.92-.59-1.43-.59-.52 0-1.04.2-1.43.59L10.3 9.45l-7.72 7.72c-.78.78-.78 2.05 0 2.83L4 21.41c.39.39.9.59 1.41.59.51 0 1.02-.2 1.41-.59l7.78-7.78 2.81-2.81c.8-.78.8-2.07 0-2.86zM5.41 20L4 18.59l7.72-7.72 1.47 1.35L5.41 20z\"/>\n",
              "  </svg>\n",
              "      </button>\n",
              "      \n",
              "  <style>\n",
              "    .colab-df-container {\n",
              "      display:flex;\n",
              "      flex-wrap:wrap;\n",
              "      gap: 12px;\n",
              "    }\n",
              "\n",
              "    .colab-df-convert {\n",
              "      background-color: #E8F0FE;\n",
              "      border: none;\n",
              "      border-radius: 50%;\n",
              "      cursor: pointer;\n",
              "      display: none;\n",
              "      fill: #1967D2;\n",
              "      height: 32px;\n",
              "      padding: 0 0 0 0;\n",
              "      width: 32px;\n",
              "    }\n",
              "\n",
              "    .colab-df-convert:hover {\n",
              "      background-color: #E2EBFA;\n",
              "      box-shadow: 0px 1px 2px rgba(60, 64, 67, 0.3), 0px 1px 3px 1px rgba(60, 64, 67, 0.15);\n",
              "      fill: #174EA6;\n",
              "    }\n",
              "\n",
              "    [theme=dark] .colab-df-convert {\n",
              "      background-color: #3B4455;\n",
              "      fill: #D2E3FC;\n",
              "    }\n",
              "\n",
              "    [theme=dark] .colab-df-convert:hover {\n",
              "      background-color: #434B5C;\n",
              "      box-shadow: 0px 1px 3px 1px rgba(0, 0, 0, 0.15);\n",
              "      filter: drop-shadow(0px 1px 2px rgba(0, 0, 0, 0.3));\n",
              "      fill: #FFFFFF;\n",
              "    }\n",
              "  </style>\n",
              "\n",
              "      <script>\n",
              "        const buttonEl =\n",
              "          document.querySelector('#df-08a157d8-42da-4dfe-9c35-64ae86a59961 button.colab-df-convert');\n",
              "        buttonEl.style.display =\n",
              "          google.colab.kernel.accessAllowed ? 'block' : 'none';\n",
              "\n",
              "        async function convertToInteractive(key) {\n",
              "          const element = document.querySelector('#df-08a157d8-42da-4dfe-9c35-64ae86a59961');\n",
              "          const dataTable =\n",
              "            await google.colab.kernel.invokeFunction('convertToInteractive',\n",
              "                                                     [key], {});\n",
              "          if (!dataTable) return;\n",
              "\n",
              "          const docLinkHtml = 'Like what you see? Visit the ' +\n",
              "            '<a target=\"_blank\" href=https://colab.research.google.com/notebooks/data_table.ipynb>data table notebook</a>'\n",
              "            + ' to learn more about interactive tables.';\n",
              "          element.innerHTML = '';\n",
              "          dataTable['output_type'] = 'display_data';\n",
              "          await google.colab.output.renderOutput(dataTable, element);\n",
              "          const docLink = document.createElement('div');\n",
              "          docLink.innerHTML = docLinkHtml;\n",
              "          element.appendChild(docLink);\n",
              "        }\n",
              "      </script>\n",
              "    </div>\n",
              "  </div>\n",
              "  "
            ]
          },
          "metadata": {},
          "execution_count": 7
        }
      ]
    },
    {
      "cell_type": "code",
      "source": [
        "dataset.shape"
      ],
      "metadata": {
        "colab": {
          "base_uri": "https://localhost:8080/"
        },
        "id": "KNQiSy4RQA-X",
        "outputId": "92fabe30-c95c-482d-8bf5-c7c021d1a054"
      },
      "execution_count": 8,
      "outputs": [
        {
          "output_type": "execute_result",
          "data": {
            "text/plain": [
              "(310003, 30)"
            ]
          },
          "metadata": {},
          "execution_count": 8
        }
      ]
    },
    {
      "cell_type": "code",
      "source": [
        "''' Verificando as colunas que mais possuem valores NaN '''\n",
        "X=dataset.isna().sum().sort_values(ascending=False)\n",
        "drop_list = []\n",
        "for i in range(0,(len(X))):\n",
        "  if (X[i] == 0):\n",
        "    drop_list.append(X.index[i])\n",
        "X.drop(labels=drop_list, inplace=True)\n",
        "sns.barplot(y=X.index,x=X.values,order=X.index)\n"
      ],
      "metadata": {
        "colab": {
          "base_uri": "https://localhost:8080/",
          "height": 288
        },
        "id": "7L61eZ1-hx4s",
        "outputId": "62939c27-450a-4e9a-fd0d-66a1a5757772"
      },
      "execution_count": 9,
      "outputs": [
        {
          "output_type": "execute_result",
          "data": {
            "text/plain": [
              "<matplotlib.axes._subplots.AxesSubplot at 0x7ff812a161d0>"
            ]
          },
          "metadata": {},
          "execution_count": 9
        },
        {
          "output_type": "display_data",
          "data": {
            "text/plain": [
              "<Figure size 432x288 with 1 Axes>"
            ],
            "image/png": "[encoded data removed]"
          },
          "metadata": {}
        }
      ]
    },
    {
      "cell_type": "code",
      "source": [
        "#Todas variáveis do dataset\n",
        "list(dataset)"
      ],
      "metadata": {
        "colab": {
          "base_uri": "https://localhost:8080/"
        },
        "id": "d9unWxrgh4wR",
        "outputId": "b2c4bcb5-81d0-48a5-ef91-b66dd9d4dbe9"
      },
      "execution_count": 10,
      "outputs": [
        {
          "output_type": "execute_result",
          "data": {
            "text/plain": [
              "['ano',\n",
              " 'mes',\n",
              " 'nome_servidor',\n",
              " 'cpf_servidor',\n",
              " 'data_nascimento_servidor',\n",
              " 'data_falecimento_servidor',\n",
              " 'matricula_servidor',\n",
              " 'nome_orgao',\n",
              " 'sigla_orgao',\n",
              " 'codigo_orgao_superior',\n",
              " 'cargo_servidor',\n",
              " 'escolaridade_cargo',\n",
              " 'classe_servidor',\n",
              " 'padrao_servidor',\n",
              " 'referencia_servidor',\n",
              " 'nivel_servidor',\n",
              " 'ocorrencia_isp_servidor',\n",
              " 'data_ocorrencia_isp_servidor',\n",
              " 'nome_beneficiario',\n",
              " 'cpf_beneficiario',\n",
              " 'data_nascimento_beneficiario',\n",
              " 'sigla_uf_upag_vinculacao',\n",
              " 'tipo_beneficiario',\n",
              " 'tipo_pensao',\n",
              " 'natureza_pensao',\n",
              " 'data_inicio_beneficio',\n",
              " 'data_fim_beneficio',\n",
              " 'rendimento_bruto',\n",
              " 'rendimento_liquido',\n",
              " 'pagamento_suspenso']"
            ]
          },
          "metadata": {},
          "execution_count": 10
        }
      ]
    },
    {
      "cell_type": "code",
      "source": [
        "'''Reduzindo a tabela '''\n",
        "dataset2 = dataset.loc[:, dataset.columns.isin(['data_nascimento_servidor','data_falecimento_servidor','tipo_beneficiario','tipo_pensao','data_inicio_beneficio','data_fim_beneficio', 'escolaridade_cargo','rendimento_bruto',\n",
        " 'rendimento_liquido','pagamento_suspenso'])]"
      ],
      "metadata": {
        "id": "vebPBqCJiEUY"
      },
      "execution_count": 11,
      "outputs": []
    },
    {
      "cell_type": "code",
      "source": [
        "X=dataset2.isna().sum().sort_values(ascending=False)\n",
        "drop_list = []\n",
        "for i in range(0,(len(X))):\n",
        "  if (X[i] == 0):\n",
        "    drop_list.append(X.index[i])\n",
        "X.drop(labels=drop_list, inplace=True)\n",
        "sns.barplot(y=X.index,x=X.values,order=X.index)"
      ],
      "metadata": {
        "colab": {
          "base_uri": "https://localhost:8080/",
          "height": 288
        },
        "id": "bTWwNw6o3oz8",
        "outputId": "beb45cf1-7bac-4b72-810c-0acc27d541b5"
      },
      "execution_count": 12,
      "outputs": [
        {
          "output_type": "execute_result",
          "data": {
            "text/plain": [
              "<matplotlib.axes._subplots.AxesSubplot at 0x7ff81293bb90>"
            ]
          },
          "metadata": {},
          "execution_count": 12
        },
        {
          "output_type": "display_data",
          "data": {
            "text/plain": [
              "<Figure size 432x288 with 1 Axes>"
            ],
            "image/png": "[encoded data removed]"
          },
          "metadata": {}
        }
      ]
    },
    {
      "cell_type": "code",
      "source": [
        "#Calculando a idade\n",
        "'''data_e_hora = datetime.strptime(data_em_texto, ‘%d/%m/%Y %H:%M’)'''\n",
        "def convert_data(data_nascimento, data_falecimento):\n",
        "    if pd.isna(data_nascimento) or pd.isna(data_falecimento):\n",
        "      return np.nan\n",
        "    else: \n",
        "        dt_nasc = datetime.datetime.strptime(data_nascimento, '%Y-%m-%d')\n",
        "        dt_falec = datetime.datetime.strptime(data_falecimento, '%Y-%m-%d')\n",
        "        anos = (dt_falec - dt_nasc).days/365.2425\n",
        "        return round(anos,0)\n",
        "    \n",
        "\n",
        "def func(x):\n",
        "    return convert_data(x['data_nascimento_servidor'], x['data_falecimento_servidor'])\n",
        "\n",
        "def func2(x):\n",
        "  return convert_data(x['data_inicio_beneficio'], x['data_fim_beneficio'])"
      ],
      "metadata": {
        "id": "LxDSXpkogJvs"
      },
      "execution_count": 13,
      "outputs": []
    },
    {
      "cell_type": "code",
      "source": [
        "dataset2.drop(dataset2.loc[dataset2['data_nascimento_servidor'] == 'data_nascimento_servidor'].index, inplace=True)\n",
        "dataset2.reset_index(drop=True, inplace = True)"
      ],
      "metadata": {
        "id": "-sQjxDbZho_F"
      },
      "execution_count": 14,
      "outputs": []
    },
    {
      "cell_type": "code",
      "source": [
        "mode=dataset2[\"data_nascimento_servidor\"].mode()"
      ],
      "metadata": {
        "id": "1b_WeTul3cM8"
      },
      "execution_count": 15,
      "outputs": []
    },
    {
      "cell_type": "code",
      "source": [
        "dataset2[\"data_nascimento_servidor\"].fillna(mode[0], inplace = True)"
      ],
      "metadata": {
        "id": "Vs_XyHTx4LWK"
      },
      "execution_count": 16,
      "outputs": []
    },
    {
      "cell_type": "code",
      "source": [
        "dataset2['idade_servidor']=dataset2.apply(func, axis = 1)"
      ],
      "metadata": {
        "id": "R36CAgqzgjqS"
      },
      "execution_count": 17,
      "outputs": []
    },
    {
      "cell_type": "code",
      "source": [
        "dataset2['idade_servidor'].describe()"
      ],
      "metadata": {
        "colab": {
          "base_uri": "https://localhost:8080/"
        },
        "id": "VrOwHHwInobZ",
        "outputId": "c8330970-2716-483a-ebde-c94940125dff"
      },
      "execution_count": 18,
      "outputs": [
        {
          "output_type": "execute_result",
          "data": {
            "text/plain": [
              "count    273734.000000\n",
              "mean         56.360938\n",
              "std          15.332014\n",
              "min         -28.000000\n",
              "25%          47.000000\n",
              "50%          56.000000\n",
              "75%          67.000000\n",
              "max         180.000000\n",
              "Name: idade_servidor, dtype: float64"
            ]
          },
          "metadata": {},
          "execution_count": 18
        }
      ]
    },
    {
      "cell_type": "code",
      "source": [
        "dataset2['idade_servidor'].plot.box()"
      ],
      "metadata": {
        "colab": {
          "base_uri": "https://localhost:8080/",
          "height": 289
        },
        "id": "oXf6CeSbz9Eu",
        "outputId": "37c707e4-3a50-4aea-eeb2-6da0822c56af"
      },
      "execution_count": 19,
      "outputs": [
        {
          "output_type": "execute_result",
          "data": {
            "text/plain": [
              "<matplotlib.axes._subplots.AxesSubplot at 0x7ff812286fd0>"
            ]
          },
          "metadata": {},
          "execution_count": 19
        },
        {
          "output_type": "display_data",
          "data": {
            "text/plain": [
              "<Figure size 432x288 with 1 Axes>"
            ],
            "image/png": "[encoded data removed]"
          },
          "metadata": {}
        }
      ]
    },
    {
      "cell_type": "code",
      "source": [
        "#removendo outliers \n",
        "dataset2.drop(dataset2.loc[dataset2['idade_servidor'] > 120].index, inplace=True)\n",
        "dataset2.drop(dataset2.loc[dataset2['idade_servidor'] < 18].index, inplace=True)\n",
        "dataset2.reset_index(drop=True,inplace = True)\n",
        "dataset2['idade_servidor'].plot.box()\n"
      ],
      "metadata": {
        "colab": {
          "base_uri": "https://localhost:8080/",
          "height": 289
        },
        "id": "5ryU__nOw9Sz",
        "outputId": "0e34786b-5616-4c6f-c0f9-b53958dcc96e"
      },
      "execution_count": 20,
      "outputs": [
        {
          "output_type": "execute_result",
          "data": {
            "text/plain": [
              "<matplotlib.axes._subplots.AxesSubplot at 0x7ff811167390>"
            ]
          },
          "metadata": {},
          "execution_count": 20
        },
        {
          "output_type": "display_data",
          "data": {
            "text/plain": [
              "<Figure size 432x288 with 1 Axes>"
            ],
            "image/png": "[encoded data removed]"
          },
          "metadata": {}
        }
      ]
    },
    {
      "cell_type": "code",
      "source": [
        "X=dataset2.isna().sum().sort_values(ascending=False)\n",
        "drop_list = []\n",
        "for i in range(0,(len(X))):\n",
        "  if (X[i] == 0):\n",
        "    drop_list.append(X.index[i])\n",
        "X.drop(labels=drop_list, inplace=True)\n",
        "sns.barplot(y=X.index,x=X.values,order=X.index)"
      ],
      "metadata": {
        "colab": {
          "base_uri": "https://localhost:8080/",
          "height": 348
        },
        "id": "RUPVnTGCPOZL",
        "outputId": "9996050c-0ac5-4e82-f725-7822579095dd"
      },
      "execution_count": 79,
      "outputs": [
        {
          "output_type": "error",
          "ename": "ValueError",
          "evalue": "ignored",
          "traceback": [
            "\u001b[0;31m---------------------------------------------------------------------------\u001b[0m",
            "\u001b[0;31mValueError\u001b[0m                                Traceback (most recent call last)",
            "\u001b[0;32m<ipython-input-79-ba82f17b7e40>\u001b[0m in \u001b[0;36m<module>\u001b[0;34m()\u001b[0m\n\u001b[1;32m      5\u001b[0m     \u001b[0mdrop_list\u001b[0m\u001b[0;34m.\u001b[0m\u001b[0mappend\u001b[0m\u001b[0;34m(\u001b[0m\u001b[0mX\u001b[0m\u001b[0;34m.\u001b[0m\u001b[0mindex\u001b[0m\u001b[0;34m[\u001b[0m\u001b[0mi\u001b[0m\u001b[0;34m]\u001b[0m\u001b[0;34m)\u001b[0m\u001b[0;34m\u001b[0m\u001b[0;34m\u001b[0m\u001b[0m\n\u001b[1;32m      6\u001b[0m \u001b[0mX\u001b[0m\u001b[0;34m.\u001b[0m\u001b[0mdrop\u001b[0m\u001b[0;34m(\u001b[0m\u001b[0mlabels\u001b[0m\u001b[0;34m=\u001b[0m\u001b[0mdrop_list\u001b[0m\u001b[0;34m,\u001b[0m \u001b[0minplace\u001b[0m\u001b[0;34m=\u001b[0m\u001b[0;32mTrue\u001b[0m\u001b[0;34m)\u001b[0m\u001b[0;34m\u001b[0m\u001b[0;34m\u001b[0m\u001b[0m\n\u001b[0;32m----> 7\u001b[0;31m \u001b[0msns\u001b[0m\u001b[0;34m.\u001b[0m\u001b[0mbarplot\u001b[0m\u001b[0;34m(\u001b[0m\u001b[0my\u001b[0m\u001b[0;34m=\u001b[0m\u001b[0mX\u001b[0m\u001b[0;34m.\u001b[0m\u001b[0mindex\u001b[0m\u001b[0;34m,\u001b[0m\u001b[0mx\u001b[0m\u001b[0;34m=\u001b[0m\u001b[0mX\u001b[0m\u001b[0;34m.\u001b[0m\u001b[0mvalues\u001b[0m\u001b[0;34m,\u001b[0m\u001b[0morder\u001b[0m\u001b[0;34m=\u001b[0m\u001b[0mX\u001b[0m\u001b[0;34m.\u001b[0m\u001b[0mindex\u001b[0m\u001b[0;34m)\u001b[0m\u001b[0;34m\u001b[0m\u001b[0;34m\u001b[0m\u001b[0m\n\u001b[0m",
            "\u001b[0;32m/usr/local/lib/python3.7/dist-packages/seaborn/_decorators.py\u001b[0m in \u001b[0;36minner_f\u001b[0;34m(*args, **kwargs)\u001b[0m\n\u001b[1;32m     44\u001b[0m             )\n\u001b[1;32m     45\u001b[0m         \u001b[0mkwargs\u001b[0m\u001b[0;34m.\u001b[0m\u001b[0mupdate\u001b[0m\u001b[0;34m(\u001b[0m\u001b[0;34m{\u001b[0m\u001b[0mk\u001b[0m\u001b[0;34m:\u001b[0m \u001b[0marg\u001b[0m \u001b[0;32mfor\u001b[0m \u001b[0mk\u001b[0m\u001b[0;34m,\u001b[0m \u001b[0marg\u001b[0m \u001b[0;32min\u001b[0m \u001b[0mzip\u001b[0m\u001b[0;34m(\u001b[0m\u001b[0msig\u001b[0m\u001b[0;34m.\u001b[0m\u001b[0mparameters\u001b[0m\u001b[0;34m,\u001b[0m \u001b[0margs\u001b[0m\u001b[0;34m)\u001b[0m\u001b[0;34m}\u001b[0m\u001b[0;34m)\u001b[0m\u001b[0;34m\u001b[0m\u001b[0;34m\u001b[0m\u001b[0m\n\u001b[0;32m---> 46\u001b[0;31m         \u001b[0;32mreturn\u001b[0m \u001b[0mf\u001b[0m\u001b[0;34m(\u001b[0m\u001b[0;34m**\u001b[0m\u001b[0mkwargs\u001b[0m\u001b[0;34m)\u001b[0m\u001b[0;34m\u001b[0m\u001b[0;34m\u001b[0m\u001b[0m\n\u001b[0m\u001b[1;32m     47\u001b[0m     \u001b[0;32mreturn\u001b[0m \u001b[0minner_f\u001b[0m\u001b[0;34m\u001b[0m\u001b[0;34m\u001b[0m\u001b[0m\n\u001b[1;32m     48\u001b[0m \u001b[0;34m\u001b[0m\u001b[0m\n",
            "\u001b[0;32m/usr/local/lib/python3.7/dist-packages/seaborn/categorical.py\u001b[0m in \u001b[0;36mbarplot\u001b[0;34m(x, y, hue, data, order, hue_order, estimator, ci, n_boot, units, seed, orient, color, palette, saturation, errcolor, errwidth, capsize, dodge, ax, **kwargs)\u001b[0m\n\u001b[1;32m   3183\u001b[0m                           \u001b[0mestimator\u001b[0m\u001b[0;34m,\u001b[0m \u001b[0mci\u001b[0m\u001b[0;34m,\u001b[0m \u001b[0mn_boot\u001b[0m\u001b[0;34m,\u001b[0m \u001b[0munits\u001b[0m\u001b[0;34m,\u001b[0m \u001b[0mseed\u001b[0m\u001b[0;34m,\u001b[0m\u001b[0;34m\u001b[0m\u001b[0;34m\u001b[0m\u001b[0m\n\u001b[1;32m   3184\u001b[0m                           \u001b[0morient\u001b[0m\u001b[0;34m,\u001b[0m \u001b[0mcolor\u001b[0m\u001b[0;34m,\u001b[0m \u001b[0mpalette\u001b[0m\u001b[0;34m,\u001b[0m \u001b[0msaturation\u001b[0m\u001b[0;34m,\u001b[0m\u001b[0;34m\u001b[0m\u001b[0;34m\u001b[0m\u001b[0m\n\u001b[0;32m-> 3185\u001b[0;31m                           errcolor, errwidth, capsize, dodge)\n\u001b[0m\u001b[1;32m   3186\u001b[0m \u001b[0;34m\u001b[0m\u001b[0m\n\u001b[1;32m   3187\u001b[0m     \u001b[0;32mif\u001b[0m \u001b[0max\u001b[0m \u001b[0;32mis\u001b[0m \u001b[0;32mNone\u001b[0m\u001b[0;34m:\u001b[0m\u001b[0;34m\u001b[0m\u001b[0;34m\u001b[0m\u001b[0m\n",
            "\u001b[0;32m/usr/local/lib/python3.7/dist-packages/seaborn/categorical.py\u001b[0m in \u001b[0;36m__init__\u001b[0;34m(self, x, y, hue, data, order, hue_order, estimator, ci, n_boot, units, seed, orient, color, palette, saturation, errcolor, errwidth, capsize, dodge)\u001b[0m\n\u001b[1;32m   1584\u001b[0m         self.establish_variables(x, y, hue, data, orient,\n\u001b[1;32m   1585\u001b[0m                                  order, hue_order, units)\n\u001b[0;32m-> 1586\u001b[0;31m         \u001b[0mself\u001b[0m\u001b[0;34m.\u001b[0m\u001b[0mestablish_colors\u001b[0m\u001b[0;34m(\u001b[0m\u001b[0mcolor\u001b[0m\u001b[0;34m,\u001b[0m \u001b[0mpalette\u001b[0m\u001b[0;34m,\u001b[0m \u001b[0msaturation\u001b[0m\u001b[0;34m)\u001b[0m\u001b[0;34m\u001b[0m\u001b[0;34m\u001b[0m\u001b[0m\n\u001b[0m\u001b[1;32m   1587\u001b[0m         \u001b[0mself\u001b[0m\u001b[0;34m.\u001b[0m\u001b[0mestimate_statistic\u001b[0m\u001b[0;34m(\u001b[0m\u001b[0mestimator\u001b[0m\u001b[0;34m,\u001b[0m \u001b[0mci\u001b[0m\u001b[0;34m,\u001b[0m \u001b[0mn_boot\u001b[0m\u001b[0;34m,\u001b[0m \u001b[0mseed\u001b[0m\u001b[0;34m)\u001b[0m\u001b[0;34m\u001b[0m\u001b[0;34m\u001b[0m\u001b[0m\n\u001b[1;32m   1588\u001b[0m \u001b[0;34m\u001b[0m\u001b[0m\n",
            "\u001b[0;32m/usr/local/lib/python3.7/dist-packages/seaborn/categorical.py\u001b[0m in \u001b[0;36mestablish_colors\u001b[0;34m(self, color, palette, saturation)\u001b[0m\n\u001b[1;32m    317\u001b[0m         \u001b[0;31m# Determine the gray color to use for the lines framing the plot\u001b[0m\u001b[0;34m\u001b[0m\u001b[0;34m\u001b[0m\u001b[0;34m\u001b[0m\u001b[0m\n\u001b[1;32m    318\u001b[0m         \u001b[0mlight_vals\u001b[0m \u001b[0;34m=\u001b[0m \u001b[0;34m[\u001b[0m\u001b[0mcolorsys\u001b[0m\u001b[0;34m.\u001b[0m\u001b[0mrgb_to_hls\u001b[0m\u001b[0;34m(\u001b[0m\u001b[0;34m*\u001b[0m\u001b[0mc\u001b[0m\u001b[0;34m)\u001b[0m\u001b[0;34m[\u001b[0m\u001b[0;36m1\u001b[0m\u001b[0;34m]\u001b[0m \u001b[0;32mfor\u001b[0m \u001b[0mc\u001b[0m \u001b[0;32min\u001b[0m \u001b[0mrgb_colors\u001b[0m\u001b[0;34m]\u001b[0m\u001b[0;34m\u001b[0m\u001b[0;34m\u001b[0m\u001b[0m\n\u001b[0;32m--> 319\u001b[0;31m         \u001b[0mlum\u001b[0m \u001b[0;34m=\u001b[0m \u001b[0mmin\u001b[0m\u001b[0;34m(\u001b[0m\u001b[0mlight_vals\u001b[0m\u001b[0;34m)\u001b[0m \u001b[0;34m*\u001b[0m \u001b[0;36m.6\u001b[0m\u001b[0;34m\u001b[0m\u001b[0;34m\u001b[0m\u001b[0m\n\u001b[0m\u001b[1;32m    320\u001b[0m         \u001b[0mgray\u001b[0m \u001b[0;34m=\u001b[0m \u001b[0mmpl\u001b[0m\u001b[0;34m.\u001b[0m\u001b[0mcolors\u001b[0m\u001b[0;34m.\u001b[0m\u001b[0mrgb2hex\u001b[0m\u001b[0;34m(\u001b[0m\u001b[0;34m(\u001b[0m\u001b[0mlum\u001b[0m\u001b[0;34m,\u001b[0m \u001b[0mlum\u001b[0m\u001b[0;34m,\u001b[0m \u001b[0mlum\u001b[0m\u001b[0;34m)\u001b[0m\u001b[0;34m)\u001b[0m\u001b[0;34m\u001b[0m\u001b[0;34m\u001b[0m\u001b[0m\n\u001b[1;32m    321\u001b[0m \u001b[0;34m\u001b[0m\u001b[0m\n",
            "\u001b[0;31mValueError\u001b[0m: min() arg is an empty sequence"
          ]
        }
      ]
    },
    {
      "cell_type": "code",
      "source": [
        "dataset2.isnull().values.any() "
      ],
      "metadata": {
        "colab": {
          "base_uri": "https://localhost:8080/"
        },
        "id": "7JEhOIqA6NS9",
        "outputId": "28d94b9c-0849-42cf-d4c6-7096d4bf8c8a"
      },
      "execution_count": 80,
      "outputs": [
        {
          "output_type": "execute_result",
          "data": {
            "text/plain": [
              "False"
            ]
          },
          "metadata": {},
          "execution_count": 80
        }
      ]
    },
    {
      "cell_type": "code",
      "source": [
        "#Criar variável data atual \n",
        "dataAtual = datetime.date.today()\n",
        "datastr = dataAtual.strftime('%Y-%m-%d')"
      ],
      "metadata": {
        "id": "dLlb9f9e7Rc3"
      },
      "execution_count": 24,
      "outputs": []
    },
    {
      "cell_type": "code",
      "source": [
        "dataset2['data_fim_beneficio'].fillna( datastr, inplace = True)"
      ],
      "metadata": {
        "id": "UyhqsED68P0o"
      },
      "execution_count": 25,
      "outputs": []
    },
    {
      "cell_type": "code",
      "source": [
        "dataset2['tempo_beneficio']=dataset2.apply(func2, axis = 1)"
      ],
      "metadata": {
        "id": "SJbaD5RYq3Wh"
      },
      "execution_count": 26,
      "outputs": []
    },
    {
      "cell_type": "code",
      "source": [
        "dataset2.dropna(inplace=True)\n",
        "dataset2.reset_index(drop=True,inplace = True)"
      ],
      "metadata": {
        "id": "bAnWueNTG8Jv"
      },
      "execution_count": 78,
      "outputs": []
    },
    {
      "cell_type": "code",
      "source": [
        "dataset2['tempo_beneficio'].describe()"
      ],
      "metadata": {
        "colab": {
          "base_uri": "https://localhost:8080/"
        },
        "id": "hFp4tXS-rctc",
        "outputId": "e7cb5530-b512-4272-f986-9927168fceee"
      },
      "execution_count": 27,
      "outputs": [
        {
          "output_type": "execute_result",
          "data": {
            "text/plain": [
              "count    277632.000000\n",
              "mean         39.287924\n",
              "std          13.887536\n",
              "min        -193.000000\n",
              "25%          32.000000\n",
              "50%          39.000000\n",
              "75%          47.000000\n",
              "max         128.000000\n",
              "Name: tempo_beneficio, dtype: float64"
            ]
          },
          "metadata": {},
          "execution_count": 27
        }
      ]
    },
    {
      "cell_type": "code",
      "source": [
        "dataset2['tempo_beneficio'].plot.box()"
      ],
      "metadata": {
        "id": "zHnoOThc8rm3",
        "colab": {
          "base_uri": "https://localhost:8080/",
          "height": 289
        },
        "outputId": "e796ff54-2146-45d7-d8aa-b0a3b9fe42a6"
      },
      "execution_count": 28,
      "outputs": [
        {
          "output_type": "execute_result",
          "data": {
            "text/plain": [
              "<matplotlib.axes._subplots.AxesSubplot at 0x7ff81115f690>"
            ]
          },
          "metadata": {},
          "execution_count": 28
        },
        {
          "output_type": "display_data",
          "data": {
            "text/plain": [
              "<Figure size 432x288 with 1 Axes>"
            ],
            "image/png": "[encoded data removed]"
          },
          "metadata": {}
        }
      ]
    },
    {
      "cell_type": "code",
      "source": [
        "dataset2.drop(dataset2.loc[dataset2['tempo_beneficio'] < 0].index, inplace=True)\n",
        "dataset2.reset_index(drop=True, inplace = True)"
      ],
      "metadata": {
        "id": "shtSwCgV85pL"
      },
      "execution_count": 29,
      "outputs": []
    },
    {
      "cell_type": "code",
      "source": [
        "#Características do beneficiário\n",
        "dataset2.tipo_beneficiario.value_counts()"
      ],
      "metadata": {
        "colab": {
          "base_uri": "https://localhost:8080/"
        },
        "id": "JdXj80z9iLzy",
        "outputId": "a43c0243-f08d-4b13-ecbb-1ccbeab796ff"
      },
      "execution_count": 30,
      "outputs": [
        {
          "output_type": "execute_result",
          "data": {
            "text/plain": [
              "VIUVA                                                 137788\n",
              "FILHA MAIOR SOLTEIRA SEM CARGO PUBLICO PERMANENTE      86187\n",
              "FILHO                                                  10171\n",
              "FILHA                                                   9545\n",
              "COMPANHEIRA(O)                                          7559\n",
              "FILHO MAIOR INVALIDO                                    3995\n",
              "VIUVO                                                   2611\n",
              "COMPANHEIRA/EX-COMPANHEIRA PA RECONHECIDA JUDICIAL      2422\n",
              "COMPANHEIRO(A) DESIGNADO                                1875\n",
              "MENOR DE 21 ANOS SOB GUARDA OU TUTELA                   1857\n",
              "FILHA MAIOR INVALIDA                                    1735\n",
              "MAE                                                     1258\n",
              "CONJUGE SEPARAD0 JUDICIALMENTE                          1213\n",
              "VIUVA INVALIDA                                          1137\n",
              "CONJUGE DIVORCIADO                                       644\n",
              "DESIGNADO MENOR 21 ANOS DEPENDENCIA ECONO.SERVIDOR       557\n",
              "IRMA SOLTEIRA                                            459\n",
              "DESIGNADO MAIOR DE 60 ANOS                               459\n",
              "FILHA VIUVA                                              440\n",
              "FILHAS DESQUITADAS,SEPARADAS JUDIC. OU DIVORCIADAS       405\n",
              "DESIGNADO INVALIDO DEPENDENCIA ECONOMICA SERVIDOR        314\n",
              "MAE VIUVA                                                274\n",
              "FILHAS CASADAS                                           228\n",
              "IRMAO MAIOR INVALIDO                                     172\n",
              "NETAS SOLTEIRAS                                          164\n",
              "PAI                                                       92\n",
              "PESSOA DEFICIENTE SOB DEP.ECONOMICA DO SERVIDOR           81\n",
              "IRMA VIUVA                                                79\n",
              "VIUVO INVALIDO                                            58\n",
              "ENTEADO                                                   34\n",
              "ENTEADO MAIOR INVALIDO                                    30\n",
              "COMPANHEIRA INVALIDA                                      24\n",
              "PAI INVALIDO                                              15\n",
              "NETOS MENORES, ORFAOS DE PAI E MAE                        15\n",
              "VIUVA SEPARADA INVALIDA                                   12\n",
              "SOBRINHOS MENORES                                          9\n",
              "IRMA DESQUITADA,SEPARADA JUDIC. OU DIVORCIADAS             9\n",
              "IRMA MAIOR INVALIDA                                        9\n",
              "ENTEADA                                                    3\n",
              "FILHAS DE IRMA FALECIDA                                    3\n",
              "ENTEADA MAIOR INVALIDA                                     3\n",
              "Name: tipo_beneficiario, dtype: int64"
            ]
          },
          "metadata": {},
          "execution_count": 30
        }
      ]
    },
    {
      "cell_type": "code",
      "source": [
        "#Tipos, causas, motivações do benefício\n",
        "\n",
        "dataset2['tipo_pensao'].value_counts(normalize=True).plot.bar()"
      ],
      "metadata": {
        "colab": {
          "base_uri": "https://localhost:8080/",
          "height": 589
        },
        "id": "OwqnrhyuiYgU",
        "outputId": "4fa43004-8c5c-4d61-8c3a-041c8393a400"
      },
      "execution_count": 31,
      "outputs": [
        {
          "output_type": "execute_result",
          "data": {
            "text/plain": [
              "<matplotlib.axes._subplots.AxesSubplot at 0x7ff8112a51d0>"
            ]
          },
          "metadata": {},
          "execution_count": 31
        },
        {
          "output_type": "display_data",
          "data": {
            "text/plain": [
              "<Figure size 432x288 with 1 Axes>"
            ],
            "image/png": "[encoded data removed]"
          },
          "metadata": {}
        }
      ]
    },
    {
      "cell_type": "code",
      "source": [
        "dataset2.info()\n",
        "dataset2['data_nascimento_servidor']=pd.to_datetime(dataset2['data_nascimento_servidor'])\n",
        "dataset2['data_falecimento_servidor']=pd.to_datetime(dataset2['data_falecimento_servidor'])\n",
        "dataset2['data_inicio_beneficio']=pd.to_datetime(dataset2['data_inicio_beneficio'])\n",
        "dataset2['data_nascimento_servidor']=pd.to_datetime(dataset2['data_nascimento_servidor'])\n",
        "dataset2[\"rendimento_bruto\"] = pd.to_numeric(dataset2[\"rendimento_bruto\"], downcast=\"float\")\n",
        "dataset2[\"rendimento_liquido\"] = pd.to_numeric(dataset2[\"rendimento_liquido\"], downcast=\"float\")"
      ],
      "metadata": {
        "colab": {
          "base_uri": "https://localhost:8080/"
        },
        "id": "lmbRrtxhikK4",
        "outputId": "74294029-c082-4f0e-e83f-6fdf151a9ffb"
      },
      "execution_count": 32,
      "outputs": [
        {
          "output_type": "stream",
          "name": "stdout",
          "text": [
            "<class 'pandas.core.frame.DataFrame'>\n",
            "RangeIndex: 306788 entries, 0 to 306787\n",
            "Data columns (total 12 columns):\n",
            " #   Column                     Non-Null Count   Dtype  \n",
            "---  ------                     --------------   -----  \n",
            " 0   data_nascimento_servidor   306788 non-null  object \n",
            " 1   data_falecimento_servidor  270522 non-null  object \n",
            " 2   escolaridade_cargo         273912 non-null  object \n",
            " 3   tipo_beneficiario          273945 non-null  object \n",
            " 4   tipo_pensao                306251 non-null  object \n",
            " 5   data_inicio_beneficio      277574 non-null  object \n",
            " 6   data_fim_beneficio         306788 non-null  object \n",
            " 7   rendimento_bruto           306788 non-null  object \n",
            " 8   rendimento_liquido         306788 non-null  object \n",
            " 9   pagamento_suspenso         306788 non-null  object \n",
            " 10  idade_servidor             270522 non-null  float64\n",
            " 11  tempo_beneficio            277574 non-null  float64\n",
            "dtypes: float64(2), object(10)\n",
            "memory usage: 28.1+ MB\n"
          ]
        }
      ]
    },
    {
      "cell_type": "code",
      "source": [
        "dataset2.info()"
      ],
      "metadata": {
        "colab": {
          "base_uri": "https://localhost:8080/"
        },
        "id": "rfUOt3yaATBu",
        "outputId": "30c9e1d5-9bef-49c6-884c-8f4096764257"
      },
      "execution_count": 33,
      "outputs": [
        {
          "output_type": "stream",
          "name": "stdout",
          "text": [
            "<class 'pandas.core.frame.DataFrame'>\n",
            "RangeIndex: 306788 entries, 0 to 306787\n",
            "Data columns (total 12 columns):\n",
            " #   Column                     Non-Null Count   Dtype         \n",
            "---  ------                     --------------   -----         \n",
            " 0   data_nascimento_servidor   306788 non-null  datetime64[ns]\n",
            " 1   data_falecimento_servidor  270522 non-null  datetime64[ns]\n",
            " 2   escolaridade_cargo         273912 non-null  object        \n",
            " 3   tipo_beneficiario          273945 non-null  object        \n",
            " 4   tipo_pensao                306251 non-null  object        \n",
            " 5   data_inicio_beneficio      277574 non-null  datetime64[ns]\n",
            " 6   data_fim_beneficio         306788 non-null  object        \n",
            " 7   rendimento_bruto           306788 non-null  float32       \n",
            " 8   rendimento_liquido         306788 non-null  float32       \n",
            " 9   pagamento_suspenso         306788 non-null  object        \n",
            " 10  idade_servidor             270522 non-null  float64       \n",
            " 11  tempo_beneficio            277574 non-null  float64       \n",
            "dtypes: datetime64[ns](3), float32(2), float64(2), object(5)\n",
            "memory usage: 25.7+ MB\n"
          ]
        }
      ]
    },
    {
      "cell_type": "code",
      "source": [
        "#Agrupamento de benefício bruto por ano da data_inicio_beneficio\n",
        "agrup_ano_bruto = dataset2.groupby(dataset2[\"data_inicio_beneficio\"].dt.year)[\"rendimento_bruto\"].sum()"
      ],
      "metadata": {
        "id": "3YLDCmvIwcP7"
      },
      "execution_count": 34,
      "outputs": []
    },
    {
      "cell_type": "code",
      "source": [
        "#Renomeando Variáveis do Dataset\n",
        "#dataset2.rename(columns{x:y, z:a})"
      ],
      "metadata": {
        "id": "mSWlN9mb5eq3"
      },
      "execution_count": 35,
      "outputs": []
    },
    {
      "cell_type": "code",
      "source": [
        "'''Distribuição normalizada da variável X'''\n",
        "#sns.distplot(dataset2.X, fit = stats.norm);"
      ],
      "metadata": {
        "id": "k2CIoflX9U5S",
        "colab": {
          "base_uri": "https://localhost:8080/",
          "height": 35
        },
        "outputId": "e7176b8d-0fc1-47db-bbef-4413a1efdd0d"
      },
      "execution_count": 36,
      "outputs": [
        {
          "output_type": "execute_result",
          "data": {
            "text/plain": [
              "'Distribuição normalizada da variável X'"
            ],
            "application/vnd.google.colaboratory.intrinsic+json": {
              "type": "string"
            }
          },
          "metadata": {},
          "execution_count": 36
        }
      ]
    },
    {
      "cell_type": "code",
      "source": [
        "'''Reduzindo a tabela '''\n",
        "dataset3 = dataset2.loc[:, dataset2.columns.isin(['rendimento_bruto', 'idade_servidor' , 'escolaridade_cargo','pagamento_suspenso'])]"
      ],
      "metadata": {
        "id": "PYnwWgxSBSrl"
      },
      "execution_count": 66,
      "outputs": []
    },
    {
      "cell_type": "code",
      "source": [
        "dataset3=pd.get_dummies(dataset3)\n",
        "dataset3"
      ],
      "metadata": {
        "colab": {
          "base_uri": "https://localhost:8080/",
          "height": 505
        },
        "id": "CYv8XdpRDbgz",
        "outputId": "2f55523e-820b-4283-e937-3ffb2a40f8d8"
      },
      "execution_count": 67,
      "outputs": [
        {
          "output_type": "execute_result",
          "data": {
            "text/plain": [
              "        rendimento_bruto  idade_servidor  escolaridade_cargo_NIVEL AUXILIAR  \\\n",
              "0             401.059998            80.0                                  0   \n",
              "1            3566.219971            57.0                                  0   \n",
              "2             524.789978            68.0                                  0   \n",
              "3             101.290001            50.0                                  0   \n",
              "4             101.290001            50.0                                  0   \n",
              "...                  ...             ...                                ...   \n",
              "306783        685.950012            89.0                                  0   \n",
              "306784        483.359985            49.0                                  0   \n",
              "306785        483.359985            49.0                                  0   \n",
              "306786       1537.300049            45.0                                  0   \n",
              "306787       1324.260010            57.0                                  0   \n",
              "\n",
              "        escolaridade_cargo_NIVEL INTERMEDIARIO  \\\n",
              "0                                            1   \n",
              "1                                            0   \n",
              "2                                            1   \n",
              "3                                            1   \n",
              "4                                            1   \n",
              "...                                        ...   \n",
              "306783                                       1   \n",
              "306784                                       1   \n",
              "306785                                       1   \n",
              "306786                                       1   \n",
              "306787                                       1   \n",
              "\n",
              "        escolaridade_cargo_NIVEL SUPERIOR  escolaridade_cargo_NM  \\\n",
              "0                                       0                      0   \n",
              "1                                       1                      0   \n",
              "2                                       0                      0   \n",
              "3                                       0                      0   \n",
              "4                                       0                      0   \n",
              "...                                   ...                    ...   \n",
              "306783                                  0                      0   \n",
              "306784                                  0                      0   \n",
              "306785                                  0                      0   \n",
              "306786                                  0                      0   \n",
              "306787                                  0                      0   \n",
              "\n",
              "        pagamento_suspenso_NAO  pagamento_suspenso_SIM  \n",
              "0                            1                       0  \n",
              "1                            1                       0  \n",
              "2                            1                       0  \n",
              "3                            1                       0  \n",
              "4                            1                       0  \n",
              "...                        ...                     ...  \n",
              "306783                       1                       0  \n",
              "306784                       1                       0  \n",
              "306785                       1                       0  \n",
              "306786                       1                       0  \n",
              "306787                       1                       0  \n",
              "\n",
              "[306788 rows x 8 columns]"
            ],
            "text/html": [
              "\n",
              "  <div id=\"df-541252ff-d81f-465c-9791-6fe1eda5c574\">\n",
              "    <div class=\"colab-df-container\">\n",
              "      <div>\n",
              "<style scoped>\n",
              "    .dataframe tbody tr th:only-of-type {\n",
              "        vertical-align: middle;\n",
              "    }\n",
              "\n",
              "    .dataframe tbody tr th {\n",
              "        vertical-align: top;\n",
              "    }\n",
              "\n",
              "    .dataframe thead th {\n",
              "        text-align: right;\n",
              "    }\n",
              "</style>\n",
              "<table border=\"1\" class=\"dataframe\">\n",
              "  <thead>\n",
              "    <tr style=\"text-align: right;\">\n",
              "      <th></th>\n",
              "      <th>rendimento_bruto</th>\n",
              "      <th>idade_servidor</th>\n",
              "      <th>escolaridade_cargo_NIVEL AUXILIAR</th>\n",
              "      <th>escolaridade_cargo_NIVEL INTERMEDIARIO</th>\n",
              "      <th>escolaridade_cargo_NIVEL SUPERIOR</th>\n",
              "      <th>escolaridade_cargo_NM</th>\n",
              "      <th>pagamento_suspenso_NAO</th>\n",
              "      <th>pagamento_suspenso_SIM</th>\n",
              "    </tr>\n",
              "  </thead>\n",
              "  <tbody>\n",
              "    <tr>\n",
              "      <th>0</th>\n",
              "      <td>401.059998</td>\n",
              "      <td>80.0</td>\n",
              "      <td>0</td>\n",
              "      <td>1</td>\n",
              "      <td>0</td>\n",
              "      <td>0</td>\n",
              "      <td>1</td>\n",
              "      <td>0</td>\n",
              "    </tr>\n",
              "    <tr>\n",
              "      <th>1</th>\n",
              "      <td>3566.219971</td>\n",
              "      <td>57.0</td>\n",
              "      <td>0</td>\n",
              "      <td>0</td>\n",
              "      <td>1</td>\n",
              "      <td>0</td>\n",
              "      <td>1</td>\n",
              "      <td>0</td>\n",
              "    </tr>\n",
              "    <tr>\n",
              "      <th>2</th>\n",
              "      <td>524.789978</td>\n",
              "      <td>68.0</td>\n",
              "      <td>0</td>\n",
              "      <td>1</td>\n",
              "      <td>0</td>\n",
              "      <td>0</td>\n",
              "      <td>1</td>\n",
              "      <td>0</td>\n",
              "    </tr>\n",
              "    <tr>\n",
              "      <th>3</th>\n",
              "      <td>101.290001</td>\n",
              "      <td>50.0</td>\n",
              "      <td>0</td>\n",
              "      <td>1</td>\n",
              "      <td>0</td>\n",
              "      <td>0</td>\n",
              "      <td>1</td>\n",
              "      <td>0</td>\n",
              "    </tr>\n",
              "    <tr>\n",
              "      <th>4</th>\n",
              "      <td>101.290001</td>\n",
              "      <td>50.0</td>\n",
              "      <td>0</td>\n",
              "      <td>1</td>\n",
              "      <td>0</td>\n",
              "      <td>0</td>\n",
              "      <td>1</td>\n",
              "      <td>0</td>\n",
              "    </tr>\n",
              "    <tr>\n",
              "      <th>...</th>\n",
              "      <td>...</td>\n",
              "      <td>...</td>\n",
              "      <td>...</td>\n",
              "      <td>...</td>\n",
              "      <td>...</td>\n",
              "      <td>...</td>\n",
              "      <td>...</td>\n",
              "      <td>...</td>\n",
              "    </tr>\n",
              "    <tr>\n",
              "      <th>306783</th>\n",
              "      <td>685.950012</td>\n",
              "      <td>89.0</td>\n",
              "      <td>0</td>\n",
              "      <td>1</td>\n",
              "      <td>0</td>\n",
              "      <td>0</td>\n",
              "      <td>1</td>\n",
              "      <td>0</td>\n",
              "    </tr>\n",
              "    <tr>\n",
              "      <th>306784</th>\n",
              "      <td>483.359985</td>\n",
              "      <td>49.0</td>\n",
              "      <td>0</td>\n",
              "      <td>1</td>\n",
              "      <td>0</td>\n",
              "      <td>0</td>\n",
              "      <td>1</td>\n",
              "      <td>0</td>\n",
              "    </tr>\n",
              "    <tr>\n",
              "      <th>306785</th>\n",
              "      <td>483.359985</td>\n",
              "      <td>49.0</td>\n",
              "      <td>0</td>\n",
              "      <td>1</td>\n",
              "      <td>0</td>\n",
              "      <td>0</td>\n",
              "      <td>1</td>\n",
              "      <td>0</td>\n",
              "    </tr>\n",
              "    <tr>\n",
              "      <th>306786</th>\n",
              "      <td>1537.300049</td>\n",
              "      <td>45.0</td>\n",
              "      <td>0</td>\n",
              "      <td>1</td>\n",
              "      <td>0</td>\n",
              "      <td>0</td>\n",
              "      <td>1</td>\n",
              "      <td>0</td>\n",
              "    </tr>\n",
              "    <tr>\n",
              "      <th>306787</th>\n",
              "      <td>1324.260010</td>\n",
              "      <td>57.0</td>\n",
              "      <td>0</td>\n",
              "      <td>1</td>\n",
              "      <td>0</td>\n",
              "      <td>0</td>\n",
              "      <td>1</td>\n",
              "      <td>0</td>\n",
              "    </tr>\n",
              "  </tbody>\n",
              "</table>\n",
              "<p>306788 rows × 8 columns</p>\n",
              "</div>\n",
              "      <button class=\"colab-df-convert\" onclick=\"convertToInteractive('df-541252ff-d81f-465c-9791-6fe1eda5c574')\"\n",
              "              title=\"Convert this dataframe to an interactive table.\"\n",
              "              style=\"display:none;\">\n",
              "        \n",
              "  <svg xmlns=\"http://www.w3.org/2000/svg\" height=\"24px\"viewBox=\"0 0 24 24\"\n",
              "       width=\"24px\">\n",
              "    <path d=\"M0 0h24v24H0V0z\" fill=\"none\"/>\n",
              "    <path d=\"M18.56 5.44l.94 2.06.94-2.06 2.06-.94-2.06-.94-.94-2.06-.94 2.06-2.06.94zm-11 1L8.5 8.5l.94-2.06 2.06-.94-2.06-.94L8.5 2.5l-.94 2.06-2.06.94zm10 10l.94 2.06.94-2.06 2.06-.94-2.06-.94-.94-2.06-.94 2.06-2.06.94z\"/><path d=\"M17.41 7.96l-1.37-1.37c-.4-.4-.92-.59-1.43-.59-.52 0-1.04.2-1.43.59L10.3 9.45l-7.72 7.72c-.78.78-.78 2.05 0 2.83L4 21.41c.39.39.9.59 1.41.59.51 0 1.02-.2 1.41-.59l7.78-7.78 2.81-2.81c.8-.78.8-2.07 0-2.86zM5.41 20L4 18.59l7.72-7.72 1.47 1.35L5.41 20z\"/>\n",
              "  </svg>\n",
              "      </button>\n",
              "      \n",
              "  <style>\n",
              "    .colab-df-container {\n",
              "      display:flex;\n",
              "      flex-wrap:wrap;\n",
              "      gap: 12px;\n",
              "    }\n",
              "\n",
              "    .colab-df-convert {\n",
              "      background-color: #E8F0FE;\n",
              "      border: none;\n",
              "      border-radius: 50%;\n",
              "      cursor: pointer;\n",
              "      display: none;\n",
              "      fill: #1967D2;\n",
              "      height: 32px;\n",
              "      padding: 0 0 0 0;\n",
              "      width: 32px;\n",
              "    }\n",
              "\n",
              "    .colab-df-convert:hover {\n",
              "      background-color: #E2EBFA;\n",
              "      box-shadow: 0px 1px 2px rgba(60, 64, 67, 0.3), 0px 1px 3px 1px rgba(60, 64, 67, 0.15);\n",
              "      fill: #174EA6;\n",
              "    }\n",
              "\n",
              "    [theme=dark] .colab-df-convert {\n",
              "      background-color: #3B4455;\n",
              "      fill: #D2E3FC;\n",
              "    }\n",
              "\n",
              "    [theme=dark] .colab-df-convert:hover {\n",
              "      background-color: #434B5C;\n",
              "      box-shadow: 0px 1px 3px 1px rgba(0, 0, 0, 0.15);\n",
              "      filter: drop-shadow(0px 1px 2px rgba(0, 0, 0, 0.3));\n",
              "      fill: #FFFFFF;\n",
              "    }\n",
              "  </style>\n",
              "\n",
              "      <script>\n",
              "        const buttonEl =\n",
              "          document.querySelector('#df-541252ff-d81f-465c-9791-6fe1eda5c574 button.colab-df-convert');\n",
              "        buttonEl.style.display =\n",
              "          google.colab.kernel.accessAllowed ? 'block' : 'none';\n",
              "\n",
              "        async function convertToInteractive(key) {\n",
              "          const element = document.querySelector('#df-541252ff-d81f-465c-9791-6fe1eda5c574');\n",
              "          const dataTable =\n",
              "            await google.colab.kernel.invokeFunction('convertToInteractive',\n",
              "                                                     [key], {});\n",
              "          if (!dataTable) return;\n",
              "\n",
              "          const docLinkHtml = 'Like what you see? Visit the ' +\n",
              "            '<a target=\"_blank\" href=https://colab.research.google.com/notebooks/data_table.ipynb>data table notebook</a>'\n",
              "            + ' to learn more about interactive tables.';\n",
              "          element.innerHTML = '';\n",
              "          dataTable['output_type'] = 'display_data';\n",
              "          await google.colab.output.renderOutput(dataTable, element);\n",
              "          const docLink = document.createElement('div');\n",
              "          docLink.innerHTML = docLinkHtml;\n",
              "          element.appendChild(docLink);\n",
              "        }\n",
              "      </script>\n",
              "    </div>\n",
              "  </div>\n",
              "  "
            ]
          },
          "metadata": {},
          "execution_count": 67
        }
      ]
    },
    {
      "cell_type": "code",
      "source": [
        "'''Distribuição normalizada de rendimento_bruto'''\n",
        "sns.distplot(dataset3.rendimento_bruto, fit = stats.norm);"
      ],
      "metadata": {
        "colab": {
          "base_uri": "https://localhost:8080/",
          "height": 288
        },
        "id": "ZAaeZQNR8LNl",
        "outputId": "450dae7d-d7a4-4c54-858c-f70ecccb54e0"
      },
      "execution_count": 68,
      "outputs": [
        {
          "output_type": "display_data",
          "data": {
            "text/plain": [
              "<Figure size 432x288 with 1 Axes>"
            ],
            "image/png": "[encoded data removed]"
          },
          "metadata": {}
        }
      ]
    },
    {
      "cell_type": "code",
      "source": [
        "'''Distribuição normalizada de idade_servidor'''\n",
        "sns.distplot(dataset3.idade_servidor, fit = stats.norm);"
      ],
      "metadata": {
        "colab": {
          "base_uri": "https://localhost:8080/",
          "height": 288
        },
        "id": "m2RRElUO8ZJ2",
        "outputId": "aaef5533-1637-4cef-a68f-e376ae048ced"
      },
      "execution_count": 69,
      "outputs": [
        {
          "output_type": "display_data",
          "data": {
            "text/plain": [
              "<Figure size 432x288 with 1 Axes>"
            ],
            "image/png": "[encoded data removed]"
          },
          "metadata": {}
        }
      ]
    },
    {
      "cell_type": "code",
      "source": [
        "##Há correlação entre valor da pensão, idade do trabalhador e escolaridade?\n",
        "dataset3.corr()"
      ],
      "metadata": {
        "id": "CXQ3LGmy9k2D",
        "colab": {
          "base_uri": "https://localhost:8080/",
          "height": 434
        },
        "outputId": "5b5cb87e-0219-4f24-8595-2496f02d5598"
      },
      "execution_count": 70,
      "outputs": [
        {
          "output_type": "execute_result",
          "data": {
            "text/plain": [
              "                                        rendimento_bruto  idade_servidor  \\\n",
              "rendimento_bruto                                1.000000        0.100659   \n",
              "idade_servidor                                  0.100659        1.000000   \n",
              "escolaridade_cargo_NIVEL AUXILIAR              -0.184120       -0.037825   \n",
              "escolaridade_cargo_NIVEL INTERMEDIARIO         -0.264100       -0.040158   \n",
              "escolaridade_cargo_NIVEL SUPERIOR               0.549265        0.072562   \n",
              "escolaridade_cargo_NM                          -0.013497        0.002731   \n",
              "pagamento_suspenso_NAO                          0.071451       -0.010145   \n",
              "pagamento_suspenso_SIM                         -0.071451        0.010145   \n",
              "\n",
              "                                        escolaridade_cargo_NIVEL AUXILIAR  \\\n",
              "rendimento_bruto                                                -0.184120   \n",
              "idade_servidor                                                  -0.037825   \n",
              "escolaridade_cargo_NIVEL AUXILIAR                                1.000000   \n",
              "escolaridade_cargo_NIVEL INTERMEDIARIO                          -0.351512   \n",
              "escolaridade_cargo_NIVEL SUPERIOR                               -0.156444   \n",
              "escolaridade_cargo_NM                                           -0.071562   \n",
              "pagamento_suspenso_NAO                                          -0.007973   \n",
              "pagamento_suspenso_SIM                                           0.007973   \n",
              "\n",
              "                                        escolaridade_cargo_NIVEL INTERMEDIARIO  \\\n",
              "rendimento_bruto                                                     -0.264100   \n",
              "idade_servidor                                                       -0.040158   \n",
              "escolaridade_cargo_NIVEL AUXILIAR                                    -0.351512   \n",
              "escolaridade_cargo_NIVEL INTERMEDIARIO                                1.000000   \n",
              "escolaridade_cargo_NIVEL SUPERIOR                                    -0.555741   \n",
              "escolaridade_cargo_NM                                                -0.254211   \n",
              "pagamento_suspenso_NAO                                               -0.002770   \n",
              "pagamento_suspenso_SIM                                                0.002770   \n",
              "\n",
              "                                        escolaridade_cargo_NIVEL SUPERIOR  \\\n",
              "rendimento_bruto                                                 0.549265   \n",
              "idade_servidor                                                   0.072562   \n",
              "escolaridade_cargo_NIVEL AUXILIAR                               -0.156444   \n",
              "escolaridade_cargo_NIVEL INTERMEDIARIO                          -0.555741   \n",
              "escolaridade_cargo_NIVEL SUPERIOR                                1.000000   \n",
              "escolaridade_cargo_NM                                           -0.113140   \n",
              "pagamento_suspenso_NAO                                           0.012886   \n",
              "pagamento_suspenso_SIM                                          -0.012886   \n",
              "\n",
              "                                        escolaridade_cargo_NM  \\\n",
              "rendimento_bruto                                    -0.013497   \n",
              "idade_servidor                                       0.002731   \n",
              "escolaridade_cargo_NIVEL AUXILIAR                   -0.071562   \n",
              "escolaridade_cargo_NIVEL INTERMEDIARIO              -0.254211   \n",
              "escolaridade_cargo_NIVEL SUPERIOR                   -0.113140   \n",
              "escolaridade_cargo_NM                                1.000000   \n",
              "pagamento_suspenso_NAO                               0.002055   \n",
              "pagamento_suspenso_SIM                              -0.002055   \n",
              "\n",
              "                                        pagamento_suspenso_NAO  \\\n",
              "rendimento_bruto                                      0.071451   \n",
              "idade_servidor                                       -0.010145   \n",
              "escolaridade_cargo_NIVEL AUXILIAR                    -0.007973   \n",
              "escolaridade_cargo_NIVEL INTERMEDIARIO               -0.002770   \n",
              "escolaridade_cargo_NIVEL SUPERIOR                     0.012886   \n",
              "escolaridade_cargo_NM                                 0.002055   \n",
              "pagamento_suspenso_NAO                                1.000000   \n",
              "pagamento_suspenso_SIM                               -1.000000   \n",
              "\n",
              "                                        pagamento_suspenso_SIM  \n",
              "rendimento_bruto                                     -0.071451  \n",
              "idade_servidor                                        0.010145  \n",
              "escolaridade_cargo_NIVEL AUXILIAR                     0.007973  \n",
              "escolaridade_cargo_NIVEL INTERMEDIARIO                0.002770  \n",
              "escolaridade_cargo_NIVEL SUPERIOR                    -0.012886  \n",
              "escolaridade_cargo_NM                                -0.002055  \n",
              "pagamento_suspenso_NAO                               -1.000000  \n",
              "pagamento_suspenso_SIM                                1.000000  "
            ],
            "text/html": [
              "\n",
              "  <div id=\"df-87f146ee-d5f6-4e2e-845e-3438bb46bd8b\">\n",
              "    <div class=\"colab-df-container\">\n",
              "      <div>\n",
              "<style scoped>\n",
              "    .dataframe tbody tr th:only-of-type {\n",
              "        vertical-align: middle;\n",
              "    }\n",
              "\n",
              "    .dataframe tbody tr th {\n",
              "        vertical-align: top;\n",
              "    }\n",
              "\n",
              "    .dataframe thead th {\n",
              "        text-align: right;\n",
              "    }\n",
              "</style>\n",
              "<table border=\"1\" class=\"dataframe\">\n",
              "  <thead>\n",
              "    <tr style=\"text-align: right;\">\n",
              "      <th></th>\n",
              "      <th>rendimento_bruto</th>\n",
              "      <th>idade_servidor</th>\n",
              "      <th>escolaridade_cargo_NIVEL AUXILIAR</th>\n",
              "      <th>escolaridade_cargo_NIVEL INTERMEDIARIO</th>\n",
              "      <th>escolaridade_cargo_NIVEL SUPERIOR</th>\n",
              "      <th>escolaridade_cargo_NM</th>\n",
              "      <th>pagamento_suspenso_NAO</th>\n",
              "      <th>pagamento_suspenso_SIM</th>\n",
              "    </tr>\n",
              "  </thead>\n",
              "  <tbody>\n",
              "    <tr>\n",
              "      <th>rendimento_bruto</th>\n",
              "      <td>1.000000</td>\n",
              "      <td>0.100659</td>\n",
              "      <td>-0.184120</td>\n",
              "      <td>-0.264100</td>\n",
              "      <td>0.549265</td>\n",
              "      <td>-0.013497</td>\n",
              "      <td>0.071451</td>\n",
              "      <td>-0.071451</td>\n",
              "    </tr>\n",
              "    <tr>\n",
              "      <th>idade_servidor</th>\n",
              "      <td>0.100659</td>\n",
              "      <td>1.000000</td>\n",
              "      <td>-0.037825</td>\n",
              "      <td>-0.040158</td>\n",
              "      <td>0.072562</td>\n",
              "      <td>0.002731</td>\n",
              "      <td>-0.010145</td>\n",
              "      <td>0.010145</td>\n",
              "    </tr>\n",
              "    <tr>\n",
              "      <th>escolaridade_cargo_NIVEL AUXILIAR</th>\n",
              "      <td>-0.184120</td>\n",
              "      <td>-0.037825</td>\n",
              "      <td>1.000000</td>\n",
              "      <td>-0.351512</td>\n",
              "      <td>-0.156444</td>\n",
              "      <td>-0.071562</td>\n",
              "      <td>-0.007973</td>\n",
              "      <td>0.007973</td>\n",
              "    </tr>\n",
              "    <tr>\n",
              "      <th>escolaridade_cargo_NIVEL INTERMEDIARIO</th>\n",
              "      <td>-0.264100</td>\n",
              "      <td>-0.040158</td>\n",
              "      <td>-0.351512</td>\n",
              "      <td>1.000000</td>\n",
              "      <td>-0.555741</td>\n",
              "      <td>-0.254211</td>\n",
              "      <td>-0.002770</td>\n",
              "      <td>0.002770</td>\n",
              "    </tr>\n",
              "    <tr>\n",
              "      <th>escolaridade_cargo_NIVEL SUPERIOR</th>\n",
              "      <td>0.549265</td>\n",
              "      <td>0.072562</td>\n",
              "      <td>-0.156444</td>\n",
              "      <td>-0.555741</td>\n",
              "      <td>1.000000</td>\n",
              "      <td>-0.113140</td>\n",
              "      <td>0.012886</td>\n",
              "      <td>-0.012886</td>\n",
              "    </tr>\n",
              "    <tr>\n",
              "      <th>escolaridade_cargo_NM</th>\n",
              "      <td>-0.013497</td>\n",
              "      <td>0.002731</td>\n",
              "      <td>-0.071562</td>\n",
              "      <td>-0.254211</td>\n",
              "      <td>-0.113140</td>\n",
              "      <td>1.000000</td>\n",
              "      <td>0.002055</td>\n",
              "      <td>-0.002055</td>\n",
              "    </tr>\n",
              "    <tr>\n",
              "      <th>pagamento_suspenso_NAO</th>\n",
              "      <td>0.071451</td>\n",
              "      <td>-0.010145</td>\n",
              "      <td>-0.007973</td>\n",
              "      <td>-0.002770</td>\n",
              "      <td>0.012886</td>\n",
              "      <td>0.002055</td>\n",
              "      <td>1.000000</td>\n",
              "      <td>-1.000000</td>\n",
              "    </tr>\n",
              "    <tr>\n",
              "      <th>pagamento_suspenso_SIM</th>\n",
              "      <td>-0.071451</td>\n",
              "      <td>0.010145</td>\n",
              "      <td>0.007973</td>\n",
              "      <td>0.002770</td>\n",
              "      <td>-0.012886</td>\n",
              "      <td>-0.002055</td>\n",
              "      <td>-1.000000</td>\n",
              "      <td>1.000000</td>\n",
              "    </tr>\n",
              "  </tbody>\n",
              "</table>\n",
              "</div>\n",
              "      <button class=\"colab-df-convert\" onclick=\"convertToInteractive('df-87f146ee-d5f6-4e2e-845e-3438bb46bd8b')\"\n",
              "              title=\"Convert this dataframe to an interactive table.\"\n",
              "              style=\"display:none;\">\n",
              "        \n",
              "  <svg xmlns=\"http://www.w3.org/2000/svg\" height=\"24px\"viewBox=\"0 0 24 24\"\n",
              "       width=\"24px\">\n",
              "    <path d=\"M0 0h24v24H0V0z\" fill=\"none\"/>\n",
              "    <path d=\"M18.56 5.44l.94 2.06.94-2.06 2.06-.94-2.06-.94-.94-2.06-.94 2.06-2.06.94zm-11 1L8.5 8.5l.94-2.06 2.06-.94-2.06-.94L8.5 2.5l-.94 2.06-2.06.94zm10 10l.94 2.06.94-2.06 2.06-.94-2.06-.94-.94-2.06-.94 2.06-2.06.94z\"/><path d=\"M17.41 7.96l-1.37-1.37c-.4-.4-.92-.59-1.43-.59-.52 0-1.04.2-1.43.59L10.3 9.45l-7.72 7.72c-.78.78-.78 2.05 0 2.83L4 21.41c.39.39.9.59 1.41.59.51 0 1.02-.2 1.41-.59l7.78-7.78 2.81-2.81c.8-.78.8-2.07 0-2.86zM5.41 20L4 18.59l7.72-7.72 1.47 1.35L5.41 20z\"/>\n",
              "  </svg>\n",
              "      </button>\n",
              "      \n",
              "  <style>\n",
              "    .colab-df-container {\n",
              "      display:flex;\n",
              "      flex-wrap:wrap;\n",
              "      gap: 12px;\n",
              "    }\n",
              "\n",
              "    .colab-df-convert {\n",
              "      background-color: #E8F0FE;\n",
              "      border: none;\n",
              "      border-radius: 50%;\n",
              "      cursor: pointer;\n",
              "      display: none;\n",
              "      fill: #1967D2;\n",
              "      height: 32px;\n",
              "      padding: 0 0 0 0;\n",
              "      width: 32px;\n",
              "    }\n",
              "\n",
              "    .colab-df-convert:hover {\n",
              "      background-color: #E2EBFA;\n",
              "      box-shadow: 0px 1px 2px rgba(60, 64, 67, 0.3), 0px 1px 3px 1px rgba(60, 64, 67, 0.15);\n",
              "      fill: #174EA6;\n",
              "    }\n",
              "\n",
              "    [theme=dark] .colab-df-convert {\n",
              "      background-color: #3B4455;\n",
              "      fill: #D2E3FC;\n",
              "    }\n",
              "\n",
              "    [theme=dark] .colab-df-convert:hover {\n",
              "      background-color: #434B5C;\n",
              "      box-shadow: 0px 1px 3px 1px rgba(0, 0, 0, 0.15);\n",
              "      filter: drop-shadow(0px 1px 2px rgba(0, 0, 0, 0.3));\n",
              "      fill: #FFFFFF;\n",
              "    }\n",
              "  </style>\n",
              "\n",
              "      <script>\n",
              "        const buttonEl =\n",
              "          document.querySelector('#df-87f146ee-d5f6-4e2e-845e-3438bb46bd8b button.colab-df-convert');\n",
              "        buttonEl.style.display =\n",
              "          google.colab.kernel.accessAllowed ? 'block' : 'none';\n",
              "\n",
              "        async function convertToInteractive(key) {\n",
              "          const element = document.querySelector('#df-87f146ee-d5f6-4e2e-845e-3438bb46bd8b');\n",
              "          const dataTable =\n",
              "            await google.colab.kernel.invokeFunction('convertToInteractive',\n",
              "                                                     [key], {});\n",
              "          if (!dataTable) return;\n",
              "\n",
              "          const docLinkHtml = 'Like what you see? Visit the ' +\n",
              "            '<a target=\"_blank\" href=https://colab.research.google.com/notebooks/data_table.ipynb>data table notebook</a>'\n",
              "            + ' to learn more about interactive tables.';\n",
              "          element.innerHTML = '';\n",
              "          dataTable['output_type'] = 'display_data';\n",
              "          await google.colab.output.renderOutput(dataTable, element);\n",
              "          const docLink = document.createElement('div');\n",
              "          docLink.innerHTML = docLinkHtml;\n",
              "          element.appendChild(docLink);\n",
              "        }\n",
              "      </script>\n",
              "    </div>\n",
              "  </div>\n",
              "  "
            ]
          },
          "metadata": {},
          "execution_count": 70
        }
      ]
    },
    {
      "cell_type": "code",
      "source": [
        "sns.heatmap( dataset3.corr (), annot = True )"
      ],
      "metadata": {
        "id": "b5yS6KuHB26_",
        "colab": {
          "base_uri": "https://localhost:8080/",
          "height": 519
        },
        "outputId": "ae1dd5a6-81bf-4e3d-b84f-3a2ac36066de"
      },
      "execution_count": 71,
      "outputs": [
        {
          "output_type": "execute_result",
          "data": {
            "text/plain": [
              "<matplotlib.axes._subplots.AxesSubplot at 0x7ff801614d10>"
            ]
          },
          "metadata": {},
          "execution_count": 71
        },
        {
          "output_type": "display_data",
          "data": {
            "text/plain": [
              "<Figure size 432x288 with 2 Axes>"
            ],
            "image/png": "[encoded data removed]"
          },
          "metadata": {}
        }
      ]
    },
    {
      "cell_type": "code",
      "source": [
        "dataset2.pagamento_suspenso.hist()"
      ],
      "metadata": {
        "colab": {
          "base_uri": "https://localhost:8080/",
          "height": 288
        },
        "id": "Er9UI8q0CxTA",
        "outputId": "7e52c072-bb0b-4108-b21e-a23bed210070"
      },
      "execution_count": 73,
      "outputs": [
        {
          "output_type": "execute_result",
          "data": {
            "text/plain": [
              "<matplotlib.axes._subplots.AxesSubplot at 0x7ff80165da90>"
            ]
          },
          "metadata": {},
          "execution_count": 73
        },
        {
          "output_type": "display_data",
          "data": {
            "text/plain": [
              "<Figure size 432x288 with 1 Axes>"
            ],
            "image/png": "[encoded data removed]"
          },
          "metadata": {}
        }
      ]
    },
    {
      "cell_type": "code",
      "source": [
        "''' Balanceando os dados '''\n",
        "oversample = imblearn.over_sampling.SMOTE()\n",
        "X_res, y_res = oversample.w(dataset2.loc[:, dataset2.columns.isin(['rendimento_bruto','idade_servidor'])], dataset2.pagamento_suspenso )\n",
        "y_res.hist()\n"
      ],
      "metadata": {
        "colab": {
          "base_uri": "https://localhost:8080/",
          "height": 288
        },
        "id": "IWdCKq0UGHtJ",
        "outputId": "8346ef5f-f8b0-4113-bbb0-e8c8cae51c21"
      },
      "execution_count": 81,
      "outputs": [
        {
          "output_type": "execute_result",
          "data": {
            "text/plain": [
              "<matplotlib.axes._subplots.AxesSubplot at 0x7ff808235290>"
            ]
          },
          "metadata": {},
          "execution_count": 81
        },
        {
          "output_type": "display_data",
          "data": {
            "text/plain": [
              "<Figure size 432x288 with 1 Axes>"
            ],
            "image/png": "[encoded data removed]"
          },
          "metadata": {}
        }
      ]
    },
    {
      "cell_type": "code",
      "source": [
        "#Realizar um modelo de aprendizado de máquina para prever quais variáveis impactam no modelo de um benefício suspenso ('pagamento_suspenso')\n",
        "\n",
        "\n",
        "\n",
        "'''Análise de varios algoritmos de classificação'''\n",
        "num_folds = 10\n",
        "resultados = []\n",
        "nomes = []\n",
        "modelos = []\n",
        "\n",
        "modelos.append(('LR', LogisticRegression()))\n",
        "modelos.append(('LDA', LinearDiscriminantAnalysis()))\n",
        "modelos.append(('NB', GaussianNB()))\n",
        "modelos.append(('KNN', KNeighborsClassifier()))\n",
        "modelos.append(('CART', DecisionTreeClassifier()))\n",
        "modelos.append(('SVM', SVC()))\n",
        "modelos.append(('RNN',MLPClassifier(hidden_layer_sizes=(8,8,8), activation='relu', solver='adam', max_iter=500)))\n",
        "\n",
        "for nome, modelo in modelos:\n",
        "    kfold = KFold(n_splits = num_folds, shuffle=True, random_state=1)\n",
        "    cv_results = cross_val_score(modelo, X_res, y_res, cv = kfold, scoring = 'accuracy')\n",
        "    cm_results = cross_val_predict(modelo,X_res,y_res,cv = kfold)\n",
        "    resultados.append(cv_results)\n",
        "    nomes.append(nome)\n",
        "    msg = \"%s: %f (%f)\" % (nome, cv_results.mean(), cv_results.std())\n",
        "    print(msg)\n",
        "\n",
        "fig = plt.figure()\n",
        "fig.suptitle('Comparação de Algoritmos de Classificação')\n",
        "ax = fig.add_subplot(111)\n",
        "plt.boxplot(resultados)\n",
        "ax.set_xticklabels(nomes)\n",
        "plt.show()\n",
        "\n",
        "\n"
      ],
      "metadata": {
        "id": "3HwX-2MdFHhC",
        "colab": {
          "base_uri": "https://localhost:8080/",
          "height": 422
        },
        "outputId": "8289604d-5730-4c90-f7b3-0aa31d80d5e4"
      },
      "execution_count": 82,
      "outputs": [
        {
          "output_type": "stream",
          "name": "stdout",
          "text": [
            "LR: 0.999994 (0.000009)\n",
            "LDA: 0.814979 (0.002034)\n",
            "NB: 1.000000 (0.000000)\n",
            "KNN: 0.999983 (0.000013)\n",
            "CART: 1.000000 (0.000000)\n",
            "SVM: 0.999881 (0.000051)\n",
            "RNN: 0.999994 (0.000009)\n"
          ]
        },
        {
          "output_type": "display_data",
          "data": {
            "text/plain": [
              "<Figure size 432x288 with 1 Axes>"
            ],
            "image/png": "[encoded data removed]"
          },
          "metadata": {}
        }
      ]
    },
    {
      "cell_type": "code",
      "source": [
        "\n",
        "\n",
        "profile = ProfileReport(dataset, title = \"Relatório\", html = {\"style\":{\"full_width\": True}})\n",
        "profile.to_file(output_file = \"/content/Relatório Base de Dados HTML\")\n",
        "\n"
      ],
      "metadata": {
        "colab": {
          "base_uri": "https://localhost:8080/",
          "height": 145,
          "referenced_widgets": [
            "c8b81ebaee8f42b3ae8aaf95a149cb23",
            "18614535c41b4501b95daedd3f27d290",
            "cdc4f5b9a6044b73a8754c97f449cc24",
            "3d0a50e72ba34703bb19e15bbf16d58e",
            "da7562f3754e4fc28d623c7eb1d55d73",
            "d842352cc331426f97f411e8b8373ba8",
            "1f3384197d744c639906bd79a4d78725",
            "97719a1203414a7389769a16049da709",
            "8c319bc8b6e64da79ecbbe8a7d4c8469",
            "8bbd7d70c6514b8a961702de26075d5f",
            "3712e0d797f74634af687a06c8029089",
            "e3de73ec182a4be196956fdcb2198a9e",
            "6ef8ae2ce3194aad8c5c732467171cbf",
            "fd7fbf87d20a43219eb62f4c9fb0d7e0",
            "ef391952856d4ffaa68f1d2f736aba4e",
            "62fb039f031d473085906c886ec796b3",
            "f3564971cbb542c2a57eddb76129fdc9",
            "e74da29c4047467e9b293bef5e2f8348",
            "bc5937eb171f45a6a8f25853b95e04fb",
            "2633cd0ac5b74bb896d2556cfbb038fe",
            "a41b663617894666b9516f429e984099",
            "a5f9223736e9428f918f8cabe5c4872c",
            "1aa30217e5fd431f8879ebbdfa905a56",
            "e3f5565f7254493d881a37a2c4f34d04",
            "9c211dc8fa074f3093e54bd2da9320f0",
            "3bc087b5de314e4e91fb2f58201489dc",
            "0948b7e569c6470cbe1c34aa9998554c",
            "4b7c53d55c284d6cb2bbe1c1288388ca",
            "67ef6212234c4d868adbe20ef5cced7a",
            "e7b2ea0e4e984977b203592c3243867f",
            "6b3ee3910de342d2986123682d8c93e1",
            "edffb23b5bfd404895c2874faa50581a",
            "0734cf2f772b44469addec8b2586f403",
            "b1b06833d5774ec989b91c8749285264",
            "342810eda43840f78a552b386b276880",
            "7f00f99a673d443fb77d545b992b6f98",
            "863f67cc6a524934a67cf62e10025117",
            "6c4a4d724b9b44e7b0f74a9118df6101",
            "70554baded0148a589087e4b987a0963",
            "53ad78c6903847a991bb31026a9dc68f",
            "c1574f99aec046df80285e01c30d4761",
            "916265b87f7544a2ae760297e58922f0",
            "80f3ac539e064e2981b264906b3adbc5",
            "fac5bad0dd9245daa9f40e8dad1dcf3d"
          ]
        },
        "id": "ALvtTa8r_BK8",
        "outputId": "489f7ff0-f1f6-4330-ea37-47f28e2089ac"
      },
      "execution_count": 52,
      "outputs": [
        {
          "output_type": "display_data",
          "data": {
            "text/plain": [
              "Summarize dataset:   0%|          | 0/5 [00:00<?, ?it/s]"
            ],
            "application/vnd.jupyter.widget-view+json": {
              "version_major": 2,
              "version_minor": 0,
              "model_id": "c8b81ebaee8f42b3ae8aaf95a149cb23"
            }
          },
          "metadata": {}
        },
        {
          "output_type": "display_data",
          "data": {
            "text/plain": [
              "Generate report structure:   0%|          | 0/1 [00:00<?, ?it/s]"
            ],
            "application/vnd.jupyter.widget-view+json": {
              "version_major": 2,
              "version_minor": 0,
              "model_id": "e3de73ec182a4be196956fdcb2198a9e"
            }
          },
          "metadata": {}
        },
        {
          "output_type": "display_data",
          "data": {
            "text/plain": [
              "Render HTML:   0%|          | 0/1 [00:00<?, ?it/s]"
            ],
            "application/vnd.jupyter.widget-view+json": {
              "version_major": 2,
              "version_minor": 0,
              "model_id": "1aa30217e5fd431f8879ebbdfa905a56"
            }
          },
          "metadata": {}
        },
        {
          "output_type": "display_data",
          "data": {
            "text/plain": [
              "Export report to file:   0%|          | 0/1 [00:00<?, ?it/s]"
            ],
            "application/vnd.jupyter.widget-view+json": {
              "version_major": 2,
              "version_minor": 0,
              "model_id": "b1b06833d5774ec989b91c8749285264"
            }
          },
          "metadata": {}
        }
      ]
    }
  ]
}